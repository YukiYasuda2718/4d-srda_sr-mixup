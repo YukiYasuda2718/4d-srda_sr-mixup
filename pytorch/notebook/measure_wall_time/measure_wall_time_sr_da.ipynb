{
 "cells": [
  {
   "cell_type": "code",
   "execution_count": null,
   "id": "f41016fb-f196-4327-938c-d16ca860dba6",
   "metadata": {},
   "outputs": [],
   "source": [
    "%load_ext autoreload\n",
    "%autoreload 2\n",
    "%matplotlib inline"
   ]
  },
  {
   "cell_type": "code",
   "execution_count": null,
   "id": "1109dfe1-4752-4aba-9927-412cc9bac8c9",
   "metadata": {},
   "outputs": [],
   "source": [
    "import sys\n",
    "from logging import DEBUG, INFO, WARNING, StreamHandler, getLogger\n",
    "\n",
    "logger = getLogger()\n",
    "if not logger.hasHandlers():\n",
    "    logger.addHandler(StreamHandler(sys.stdout))\n",
    "logger.setLevel(INFO)"
   ]
  },
  {
   "cell_type": "markdown",
   "id": "18ff3d0c-158a-4e55-8ad1-dcb95dc880f3",
   "metadata": {},
   "source": [
    "# Import libraries"
   ]
  },
  {
   "cell_type": "code",
   "execution_count": null,
   "id": "9a862ea7-9414-4e0d-b678-c5792d0e96ba",
   "metadata": {},
   "outputs": [],
   "source": [
    "import glob\n",
    "import os\n",
    "import pathlib\n",
    "import time\n",
    "from collections import OrderedDict\n",
    "\n",
    "import matplotlib.pyplot as plt\n",
    "import numpy as np\n",
    "import pandas as pd\n",
    "import torch\n",
    "import torch.nn.functional as F\n",
    "import yaml\n",
    "from cfd_model.filter.low_pass_periodic_channel_domain import LowPassFilter\n",
    "from cfd_model.initialization.periodic_channel_jet_initializer import (\n",
    "    calc_init_omega,\n",
    "    calc_init_perturbation_hr_omegas,\n",
    "    calc_jet_forcing,\n",
    ")\n",
    "from cfd_model.interpolator.torch_interpolator import (\n",
    "    interpolate,\n",
    "    interpolate_time_series,\n",
    ")\n",
    "from IPython.display import display\n",
    "from src.sr_da_helper_2 import (\n",
    "    get_observation_with_noise,\n",
    "    get_testdataset,\n",
    "    initialize_and_itegrate_srda_cfd_model_for_forecast,\n",
    "    initialize_models,\n",
    "    make_invprocessed_sr_for_forecast,\n",
    "    make_models,\n",
    "    make_preprocessed_lr_for_forecast,\n",
    "    make_preprocessed_obs_for_forecast,\n",
    "    read_all_hr_omegas_with_combining_for_forecast,\n",
    ")\n",
    "from src.ssim import SSIM\n",
    "from src.utils import set_seeds\n",
    "from tqdm.notebook import tqdm\n",
    "\n",
    "plt.rcParams[\"font.family\"] = \"serif\"\n",
    "pd.set_option(\"display.max_columns\", 500)\n",
    "pd.set_option(\"display.max_rows\", 500)"
   ]
  },
  {
   "cell_type": "code",
   "execution_count": null,
   "id": "5b8c0e21-af29-45ea-ae12-386de09d38ab",
   "metadata": {},
   "outputs": [],
   "source": [
    "os.environ[\"CUBLAS_WORKSPACE_CONFIG\"] = r\":4096:8\"  # to make calculations deterministic\n",
    "set_seeds(42, use_deterministic=True)"
   ]
  },
  {
   "cell_type": "markdown",
   "id": "50d9a573-5ea5-4e0e-b026-61f522908f60",
   "metadata": {},
   "source": [
    "# Define constants"
   ]
  },
  {
   "cell_type": "code",
   "execution_count": null,
   "id": "dc1324e8-fd38-4c97-8dfe-58b5351f7fd0",
   "metadata": {},
   "outputs": [],
   "source": [
    "ROOT_DIR = str((pathlib.Path(os.environ[\"PYTHONPATH\"]) / \"..\").resolve())\n",
    "ROOT_DIR"
   ]
  },
  {
   "cell_type": "code",
   "execution_count": null,
   "id": "b6578f8d-1400-4116-8a8b-34dfd811e7e2",
   "metadata": {},
   "outputs": [],
   "source": [
    "ASSIMILATION_PERIOD = 4\n",
    "FORECAST_SPAN = 4\n",
    "NUM_SIMULATIONS = 1\n",
    "\n",
    "MIN_START_TIME_INDEX = -1\n",
    "MAX_START_TIME_INDEX = 88\n",
    "START_TIME_INDEX = 0\n",
    "NUM_TIMES = MAX_START_TIME_INDEX + ASSIMILATION_PERIOD + FORECAST_SPAN\n",
    "\n",
    "LR_NX = 32\n",
    "LR_NY = 17\n",
    "LR_DT = 5e-4\n",
    "LR_NT = 500\n",
    "\n",
    "HR_NX = 128\n",
    "HR_NY = 65\n",
    "\n",
    "UHR_NX = 1024\n",
    "UHR_NY = 513\n",
    "\n",
    "Y0 = np.pi / 2.0\n",
    "SIGMA = 0.4\n",
    "U0 = 3.0\n",
    "TAU0 = 0.3\n",
    "PERTUB_NOISE = 0.0025\n",
    "\n",
    "BETA = 0.1\n",
    "COEFF_LINEAR_DRAG = 1e-2\n",
    "ORDER_DIFFUSION = 2\n",
    "HR_COEFF_DIFFUSION = 1e-5\n",
    "LR_COEFF_DIFFUSION = 5e-5\n",
    "\n",
    "DT = LR_DT * LR_NT\n",
    "T0 = START_TIME_INDEX * LR_DT * LR_NT"
   ]
  },
  {
   "cell_type": "code",
   "execution_count": null,
   "id": "137352bf-399a-4a3b-9bdb-c37602bfe229",
   "metadata": {},
   "outputs": [],
   "source": [
    "DEVICE = \"cpu\"\n",
    "\n",
    "if not torch.cuda.is_available():\n",
    "    raise Exception(\"No GPU. CPU is used.\")"
   ]
  },
  {
   "cell_type": "code",
   "execution_count": null,
   "id": "d83f6435-4779-4916-b622-59f1923abdc0",
   "metadata": {},
   "outputs": [],
   "source": [
    "LR_CFD_CONFIG = {\n",
    "    \"nx\": LR_NX,\n",
    "    \"ny\": LR_NY,\n",
    "    \"coeff_linear_drag\": COEFF_LINEAR_DRAG,\n",
    "    \"coeff_diffusion\": LR_COEFF_DIFFUSION,\n",
    "    \"order_diffusion\": ORDER_DIFFUSION,\n",
    "    \"beta\": BETA,\n",
    "    \"device\": DEVICE,\n",
    "    \"dt\": LR_DT,\n",
    "    \"nt\": LR_NT,\n",
    "}\n",
    "\n",
    "INDEX_CONFIG = {\n",
    "    \"assimilation_period\": ASSIMILATION_PERIOD,\n",
    "    \"forecast_span\": FORECAST_SPAN,\n",
    "    \"n_ens\": 1,\n",
    "    \"lr_nx\": LR_NX,\n",
    "    \"lr_ny\": LR_NY,\n",
    "    \"hr_nx\": HR_NX,\n",
    "    \"hr_ny\": HR_NY,\n",
    "    \"device\": DEVICE,\n",
    "}"
   ]
  },
  {
   "cell_type": "code",
   "execution_count": null,
   "id": "af552217-c54d-43b1-924d-f8eeca749efc",
   "metadata": {},
   "outputs": [],
   "source": [
    "OBS_GRID_RATIO = {\n",
    "    0: 0.0,\n",
    "    4: 0.06250000093132257,\n",
    "    5: 0.03999999910593033,\n",
    "    6: 0.027777777363856632,\n",
    "    7: 0.02040816326530612,\n",
    "    8: 0.015625000116415322,\n",
    "    9: 0.012345679127323775,\n",
    "    10: 0.010000000149011612,\n",
    "    11: 0.008264463206306716,\n",
    "    12: 0.006944444625534945,\n",
    "    13: 0.005917159876284691,\n",
    "    14: 0.005102040977882487,\n",
    "    15: 0.004444444572759999,\n",
    "    16: 0.003906250014551915,\n",
    "}"
   ]
  },
  {
   "cell_type": "markdown",
   "id": "6e6431ca-0f83-4079-9f33-381617617153",
   "metadata": {},
   "source": [
    "# Define methods"
   ]
  },
  {
   "cell_type": "code",
   "execution_count": null,
   "id": "9539b2fd-693e-4285-9299-83b93c04399d",
   "metadata": {},
   "outputs": [],
   "source": [
    "def get_initial_hr_omega(seed: int):\n",
    "    hr_jet, _ = calc_jet_forcing(\n",
    "        nx=HR_NX,\n",
    "        ny=HR_NY,\n",
    "        ne=NUM_SIMULATIONS,\n",
    "        y0=Y0,\n",
    "        sigma=SIGMA,\n",
    "        tau0=TAU0,\n",
    "    )\n",
    "\n",
    "    hr_perturb = calc_init_perturbation_hr_omegas(\n",
    "        nx=HR_NX, ny=HR_NY, ne=NUM_SIMULATIONS, noise_amp=PERTUB_NOISE, seed=seed\n",
    "    )\n",
    "\n",
    "    hr_omega0 = calc_init_omega(\n",
    "        perturb_omega=hr_perturb,\n",
    "        jet=hr_jet,\n",
    "        u0=U0,\n",
    "    )\n",
    "\n",
    "    return hr_omega0"
   ]
  },
  {
   "cell_type": "code",
   "execution_count": null,
   "id": "847b87a9-44b8-4ffa-a7f7-497390bcc06b",
   "metadata": {},
   "outputs": [],
   "source": [
    "def get_uhr_and_hr_omegas(uhr_result_dir: str):\n",
    "    all_uhr_omegas = []\n",
    "    for path in sorted(glob.glob(f\"{uhr_result_dir}/*.npy\")):\n",
    "        uhr = torch.from_numpy(np.load(path)).squeeze()\n",
    "        assert uhr.shape == (UHR_NX, UHR_NY)\n",
    "        all_uhr_omegas.append(uhr)\n",
    "    # Stack along time dim\n",
    "    all_uhr_omegas = torch.stack(all_uhr_omegas)[:NUM_TIMES]\n",
    "    assert all_uhr_omegas.shape == (NUM_TIMES, UHR_NX, UHR_NY)\n",
    "\n",
    "    tmp = all_uhr_omegas[:, None, :, 1:]\n",
    "    _omegas = F.avg_pool2d(tmp, kernel_size=8).squeeze()\n",
    "\n",
    "    all_hr_omegas = torch.zeros((NUM_TIMES, HR_NX, HR_NY), dtype=_omegas.dtype)\n",
    "    all_hr_omegas[:, :, 1:] = _omegas\n",
    "\n",
    "    return all_uhr_omegas, all_hr_omegas"
   ]
  },
  {
   "cell_type": "markdown",
   "id": "28900295-e1d2-4d11-a69d-6fd076add4c3",
   "metadata": {
    "tags": []
   },
   "source": [
    "# Perform SR-DA"
   ]
  },
  {
   "cell_type": "code",
   "execution_count": null,
   "id": "b76ede42-1c4f-4889-b544-73d7715a12be",
   "metadata": {},
   "outputs": [],
   "source": [
    "GRID_INTERVAL = 8\n",
    "I_SEED_UHR = 9999"
   ]
  },
  {
   "cell_type": "code",
   "execution_count": null,
   "id": "16ad580f-8880-4a92-9208-ae8fde682d0b",
   "metadata": {},
   "outputs": [],
   "source": [
    "CONFIG_DIR = f\"{ROOT_DIR}/pytorch/config/paper_experiment_06\""
   ]
  },
  {
   "cell_type": "code",
   "execution_count": null,
   "id": "5da46ef1-0b23-4e0e-ae43-647dc113b1e4",
   "metadata": {},
   "outputs": [],
   "source": [
    "UHR_RESULT_DIR = f\"{ROOT_DIR}/data/pytorch/CFD/jet27/seed{I_SEED_UHR:05}\"\n",
    "\n",
    "# 221958, 771155, 832180, 465838, 359178\n",
    "CONFIG_NAME = (\n",
    "    f\"lt4og{GRID_INTERVAL:02}_on1e-01_ep1000_lr1e-04_scT_bT_muT_a02_b02_sd771155\"\n",
    ")\n",
    "CONFIG_PATH = f\"{CONFIG_DIR}/{CONFIG_NAME}.yml\"\n",
    "\n",
    "with open(CONFIG_PATH) as file:\n",
    "    CONFIG = yaml.safe_load(file)\n",
    "\n",
    "experiment_name = CONFIG_PATH.split(\"/\")[-2]\n",
    "_dir = f\"{ROOT_DIR}/data/pytorch/DL_results/{experiment_name}/{CONFIG_NAME}\"\n",
    "\n",
    "CONFIG_INFO = {\n",
    "    \"config\": CONFIG,\n",
    "    \"model_name\": CONFIG[\"model\"][\"model_name\"],\n",
    "    \"experiment_name\": experiment_name,\n",
    "    \"weight_path\": f\"{_dir}/weights.pth\",\n",
    "    \"learning_history_path\": f\"{_dir}/learning_history.csv\",\n",
    "    \"log\": f\"{_dir}/log.txt\",\n",
    "}"
   ]
  },
  {
   "cell_type": "code",
   "execution_count": null,
   "id": "c6b0ba02-63c9-46f7-b328-7d17e36221d5",
   "metadata": {},
   "outputs": [],
   "source": [
    "test_dataset = get_testdataset(\n",
    "    ROOT_DIR,\n",
    "    CONFIG,\n",
    "    min_start_time_index=MIN_START_TIME_INDEX,\n",
    "    max_start_time_index=MAX_START_TIME_INDEX + 1,\n",
    ")\n",
    "\n",
    "assert test_dataset.obs_time_interval == ASSIMILATION_PERIOD\n",
    "assert test_dataset.is_output_only_last == False\n",
    "assert test_dataset.is_last_obs_missing == True"
   ]
  },
  {
   "cell_type": "code",
   "execution_count": null,
   "id": "ccb79fbb-96d2-4189-9c2c-24093ae45089",
   "metadata": {},
   "outputs": [],
   "source": [
    "init_hr_omega = get_initial_hr_omega(seed=I_SEED_UHR + GRID_INTERVAL * 100)\n",
    "assert init_hr_omega.shape == (1, HR_NX, HR_NY)\n",
    "\n",
    "_, lr_forcing = calc_jet_forcing(\n",
    "    nx=LR_NX,\n",
    "    ny=LR_NY,\n",
    "    ne=1,\n",
    "    y0=Y0,\n",
    "    sigma=SIGMA,\n",
    "    tau0=TAU0,\n",
    ")\n",
    "assert lr_forcing.shape == (1, LR_NX, LR_NY)\n",
    "\n",
    "low_pass_filter = LowPassFilter(\n",
    "    nx_lr=LR_NX, ny_lr=LR_NY, nx_hr=HR_NX, ny_hr=HR_NY, device=DEVICE\n",
    ")\n",
    "\n",
    "uhr_omegas, hr_omegas = get_uhr_and_hr_omegas(UHR_RESULT_DIR)\n",
    "\n",
    "hr_obsrvs = get_observation_with_noise(\n",
    "    hr_omegas[None, ...],  # add ens channel (dummy channel)\n",
    "    test_dataset,\n",
    "    **INDEX_CONFIG,\n",
    ").squeeze()\n",
    "\n",
    "assert uhr_omegas.shape == (NUM_TIMES, UHR_NX, UHR_NY)\n",
    "assert hr_omegas.shape == hr_obsrvs.shape == (NUM_TIMES, HR_NX, HR_NY)"
   ]
  },
  {
   "cell_type": "code",
   "execution_count": null,
   "id": "3f69a355-3e8f-4154-8abe-fa53d302dfbb",
   "metadata": {},
   "outputs": [],
   "source": [
    "for _ in range(5):\n",
    "    set_seeds(555, use_deterministic=True)\n",
    "\n",
    "    sr_model, _, _ = make_models(CONFIG, CONFIG_INFO[\"weight_path\"], LR_CFD_CONFIG)\n",
    "    _ = sr_model.eval()\n",
    "\n",
    "    last_t0 = T0\n",
    "    last_hr_omega0 = init_hr_omega\n",
    "\n",
    "    hr_obs, sr_forecast = [], []\n",
    "\n",
    "    start_time = time.time()\n",
    "\n",
    "    for i_cycle in tqdm(range(NUM_TIMES)):\n",
    "\n",
    "        if i_cycle % ASSIMILATION_PERIOD == 0:\n",
    "            o = hr_obsrvs[i_cycle]\n",
    "            hr_obs.append(o[None, ...])  # add channel dim\n",
    "        else:\n",
    "            o = hr_obsrvs[i_cycle]\n",
    "            hr_obs.append(torch.full_like(o[None, ...], torch.nan))\n",
    "\n",
    "        if i_cycle > 0 and i_cycle % ASSIMILATION_PERIOD == 0:\n",
    "            lr_forecast = []\n",
    "            initialize_and_itegrate_srda_cfd_model_for_forecast(\n",
    "                lr_forecast=lr_forecast,\n",
    "                num_integrate_steps=ASSIMILATION_PERIOD + FORECAST_SPAN,\n",
    "                last_t0=last_t0,\n",
    "                last_hr_omega0=last_hr_omega0,\n",
    "                lr_ens_forcing=lr_forcing,\n",
    "                cfd_config=LR_CFD_CONFIG,\n",
    "                low_pass_filter=low_pass_filter,\n",
    "            )\n",
    "            assert len(lr_forecast) == ASSIMILATION_PERIOD + FORECAST_SPAN + 1\n",
    "\n",
    "            x = make_preprocessed_lr_for_forecast(\n",
    "                lr_forecast,\n",
    "                test_dataset,\n",
    "                **INDEX_CONFIG,\n",
    "            )\n",
    "            o = make_preprocessed_obs_for_forecast(\n",
    "                hr_obs,\n",
    "                test_dataset,\n",
    "                **INDEX_CONFIG,\n",
    "            )\n",
    "            print(x.shape, o.shape)\n",
    "\n",
    "            # Check num of time dims\n",
    "            _sum = ASSIMILATION_PERIOD + FORECAST_SPAN\n",
    "            _nt = int(_sum / CONFIG[\"data\"][\"lr_time_interval\"] + 1)\n",
    "            assert x.shape[1] == _nt\n",
    "            assert o.shape[1] == _sum + 1\n",
    "\n",
    "            with torch.no_grad():\n",
    "                sr = sr_model(x, o).detach().cpu().clone()\n",
    "            sr = make_invprocessed_sr_for_forecast(\n",
    "                sr,\n",
    "                test_dataset,\n",
    "                **INDEX_CONFIG,\n",
    "            )\n",
    "\n",
    "            last_hr_omega0 = sr[ASSIMILATION_PERIOD + 1].clone()\n",
    "            last_t0 += ASSIMILATION_PERIOD * LR_DT * LR_NT\n",
    "\n",
    "            # The indices between 0 to ASSIMILATION_PERIOD are past\n",
    "            # So NaN values are substituted for the forecast.\n",
    "            if len(sr_forecast) == 0:\n",
    "                dummy = torch.full(\n",
    "                    size=(ASSIMILATION_PERIOD,) + sr.shape[1:],\n",
    "                    fill_value=torch.nan,\n",
    "                    dtype=sr.dtype,\n",
    "                )\n",
    "                sr_forecast += dummy\n",
    "\n",
    "            i_start = ASSIMILATION_PERIOD\n",
    "            i_end = ASSIMILATION_PERIOD + FORECAST_SPAN\n",
    "            sr_forecast += sr[i_start:i_end]\n",
    "\n",
    "            logger.debug(f\"Assimilation at i = {i_cycle}\")\n",
    "\n",
    "    # Stack along time dim\n",
    "    hr_obs = torch.stack(hr_obs, dim=1).squeeze()\n",
    "    sr_forecast = torch.stack(sr_forecast, dim=1).squeeze()\n",
    "\n",
    "    assert (\n",
    "        hr_obs.shape\n",
    "        == sr_forecast.shape\n",
    "        == hr_omegas.shape\n",
    "        == (NUM_TIMES, HR_NX, HR_NY)\n",
    "    )\n",
    "\n",
    "    logger.info(f\"Wall time = {time.time() - start_time} sec\")"
   ]
  },
  {
   "cell_type": "code",
   "execution_count": null,
   "id": "3ccfcb35-cb9f-4889-acce-dc39ed8be2c0",
   "metadata": {},
   "outputs": [],
   "source": [
    "# GPU\n",
    "\n",
    "(\n",
    "    53.415621280670166\n",
    "    + 51.91998839378357\n",
    "    + 51.53233218193054\n",
    "    + 50.935877084732056\n",
    "    + 50.46408128738403\n",
    ") / 5"
   ]
  },
  {
   "cell_type": "code",
   "execution_count": null,
   "id": "db67133f-febd-4585-8d22-224393d44294",
   "metadata": {},
   "outputs": [],
   "source": [
    "# CPU\n",
    "\n",
    "(\n",
    "    41.11348748207092\n",
    "    + 40.52914905548096\n",
    "    + 40.035480260849\n",
    "    + 40.37577414512634\n",
    "    + 40.252901554107666\n",
    ") / 5"
   ]
  },
  {
   "cell_type": "code",
   "execution_count": null,
   "id": "1b7c3082-e003-4c19-814d-834805907464",
   "metadata": {},
   "outputs": [],
   "source": [
    "# oni01, CPU\n",
    "(\n",
    "    57.561357259750366\n",
    "    + 56.41942834854126\n",
    "    + 55.99148988723755\n",
    "    + 58.471670150756836\n",
    "    + 57.50953793525696\n",
    ") / 5"
   ]
  },
  {
   "cell_type": "code",
   "execution_count": null,
   "id": "bd0b0a78-641d-413c-8ca5-e5576be0ba85",
   "metadata": {},
   "outputs": [],
   "source": [
    "import torchinfo"
   ]
  },
  {
   "cell_type": "code",
   "execution_count": null,
   "id": "0b5b87e9-5460-48d8-8e1e-429af7539dda",
   "metadata": {},
   "outputs": [],
   "source": [
    "x.shape, o.shape"
   ]
  },
  {
   "cell_type": "code",
   "execution_count": null,
   "id": "c550f51b-8492-47ce-825e-4699c37a3b99",
   "metadata": {},
   "outputs": [],
   "source": [
    "torchinfo.summary(sr_model, input_size=[(1, 3, 1, 16, 32), (1, 9, 1, 64, 128)])"
   ]
  },
  {
   "cell_type": "code",
   "execution_count": null,
   "id": "4c62aacb-9eda-4dbe-9154-3149dc8f93ed",
   "metadata": {},
   "outputs": [],
   "source": [
    "sr_model"
   ]
  },
  {
   "cell_type": "code",
   "execution_count": null,
   "id": "0dc2e959-7eff-4ad8-9cc4-07432cabaa36",
   "metadata": {},
   "outputs": [],
   "source": []
  }
 ],
 "metadata": {
  "kernelspec": {
   "display_name": "Python 3 (ipykernel)",
   "language": "python",
   "name": "python3"
  },
  "language_info": {
   "codemirror_mode": {
    "name": "ipython",
    "version": 3
   },
   "file_extension": ".py",
   "mimetype": "text/x-python",
   "name": "python",
   "nbconvert_exporter": "python",
   "pygments_lexer": "ipython3",
   "version": "3.8.12"
  }
 },
 "nbformat": 4,
 "nbformat_minor": 5
}
