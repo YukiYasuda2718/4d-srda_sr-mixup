{
 "cells": [
  {
   "cell_type": "code",
   "execution_count": null,
   "id": "d885c02b-629e-4811-ad10-7eeb94c4ba94",
   "metadata": {},
   "outputs": [],
   "source": [
    "%load_ext autoreload\n",
    "%autoreload 2\n",
    "%matplotlib inline"
   ]
  },
  {
   "cell_type": "code",
   "execution_count": null,
   "id": "da9d4ace-e362-4803-be7c-a78ce32ba6f3",
   "metadata": {},
   "outputs": [],
   "source": [
    "import sys\n",
    "from logging import DEBUG, INFO, WARNING, StreamHandler, getLogger\n",
    "\n",
    "logger = getLogger()\n",
    "if not any([\"StreamHandler\" in str(handler) for handler in logger.handlers]):\n",
    "    logger.addHandler(StreamHandler(sys.stdout))\n",
    "logger.setLevel(INFO)"
   ]
  },
  {
   "cell_type": "markdown",
   "id": "e906f61a-c3f8-4109-a60c-0021c652dcb1",
   "metadata": {},
   "source": [
    "# Import libraries"
   ]
  },
  {
   "cell_type": "code",
   "execution_count": null,
   "id": "138f4474-ccda-4a93-befa-b3534b261f9f",
   "metadata": {},
   "outputs": [],
   "source": [
    "import gc\n",
    "import os\n",
    "import pathlib\n",
    "import sys\n",
    "import time\n",
    "import traceback\n",
    "from logging import INFO, WARNING, FileHandler, StreamHandler, getLogger\n",
    "from typing import Callable\n",
    "\n",
    "import numpy as np\n",
    "import pandas as pd\n",
    "import torch\n",
    "from cfd_model.cfd.periodic_channel_domain import TorchSpectralModel2D\n",
    "from cfd_model.initialization.periodic_channel_jet_initializer import (\n",
    "    calc_init_omega,\n",
    "    calc_init_perturbation_hr_omegas,\n",
    "    calc_jet_forcing,\n",
    ")\n",
    "from cfd_model.interpolator.torch_interpolator import interpolate\n",
    "from scipy.ndimage import sobel\n",
    "from src.utils import set_seeds\n",
    "\n",
    "if \"ipykernel\" in sys.modules:\n",
    "    from tqdm.notebook import tqdm\n",
    "else:\n",
    "    from tqdm import tqdm\n",
    "\n",
    "os.environ[\"CUBLAS_WORKSPACE_CONFIG\"] = r\":4096:8\"  # to make calculations deterministic"
   ]
  },
  {
   "cell_type": "markdown",
   "id": "c05065e1-5f9c-47ea-9cad-5d51ddea2f19",
   "metadata": {},
   "source": [
    "# Define constants"
   ]
  },
  {
   "cell_type": "code",
   "execution_count": null,
   "id": "65785f73-0f74-4ab3-9919-ba6636014c7a",
   "metadata": {},
   "outputs": [],
   "source": [
    "DEVICE = \"cpu\""
   ]
  },
  {
   "cell_type": "code",
   "execution_count": null,
   "id": "7e9e0d33-4102-4dc5-8c85-81d32605f7a8",
   "metadata": {},
   "outputs": [],
   "source": [
    "LR_NX = 32\n",
    "LR_NY = 17\n",
    "LR_DT = 5e-4\n",
    "LR_NT = 500\n",
    "\n",
    "HR_NX = LR_NX\n",
    "HR_NY = LR_NY\n",
    "HR_DT = LR_DT\n",
    "HR_NT = LR_NT\n",
    "\n",
    "N_CYCLES = 96\n",
    "ASSIM_PERIOD = 4\n",
    "N_ENSEMBLES = 1\n",
    "\n",
    "assert N_CYCLES % ASSIM_PERIOD == 0\n",
    "\n",
    "Y0 = np.pi / 2.0\n",
    "SIGMA = 0.4\n",
    "U0 = 3.0\n",
    "TAU0 = 0.3\n",
    "PERTUB_NOISE = 0.0025\n",
    "\n",
    "BETA = 0.1\n",
    "COEFF_LINEAR_DRAG = 1e-2\n",
    "ORDER_DIFFUSION = 2\n",
    "HR_COEFF_DIFFUSION = 1e-5\n",
    "LR_COEFF_DIFFUSION = 1e-5\n",
    "\n",
    "ROOT_DIR = str((pathlib.Path(os.environ[\"PYTHONPATH\"]) / \"..\").resolve())\n",
    "\n",
    "DF_SEEDS = pd.read_csv(f\"{ROOT_DIR}/pytorch/config/cfd_seeds/seeds01.csv\").set_index(\n",
    "    \"SimulationNumber\"\n",
    ")"
   ]
  },
  {
   "cell_type": "markdown",
   "id": "9e5c2597-2bb5-49ec-b3f4-f650a20ae377",
   "metadata": {},
   "source": [
    "# Define methods"
   ]
  },
  {
   "cell_type": "code",
   "execution_count": null,
   "id": "20211cb4-2bb6-4145-90fa-de0d426ba32e",
   "metadata": {},
   "outputs": [],
   "source": [
    "def make_and_initialize_hr_model(n_ensembles: int, seed: int, t0: float = 0.0):\n",
    "    logger.setLevel(WARNING)\n",
    "\n",
    "    hr_jet, hr_forcing = calc_jet_forcing(\n",
    "        nx=HR_NX,\n",
    "        ny=HR_NY,\n",
    "        ne=n_ensembles,\n",
    "        y0=Y0,\n",
    "        sigma=SIGMA,\n",
    "        tau0=TAU0,\n",
    "    )\n",
    "\n",
    "    hr_perturb = calc_init_perturbation_hr_omegas(\n",
    "        nx=HR_NX, ny=HR_NY, ne=n_ensembles, noise_amp=PERTUB_NOISE, seed=seed\n",
    "    )\n",
    "\n",
    "    hr_omega0 = calc_init_omega(\n",
    "        perturb_omega=hr_perturb,\n",
    "        jet=hr_jet,\n",
    "        u0=U0,\n",
    "    )\n",
    "\n",
    "    hr_model = TorchSpectralModel2D(\n",
    "        nx=HR_NX,\n",
    "        ny=HR_NY,\n",
    "        coeff_linear_drag=COEFF_LINEAR_DRAG,\n",
    "        coeff_diffusion=HR_COEFF_DIFFUSION,\n",
    "        order_diffusion=ORDER_DIFFUSION,\n",
    "        beta=BETA,\n",
    "        device=DEVICE,\n",
    "    )\n",
    "    hr_model.initialize(t0=t0, omega0=hr_omega0, forcing=hr_forcing)\n",
    "    hr_model.calc_grid_data()\n",
    "\n",
    "    logger.setLevel(INFO)\n",
    "\n",
    "    return hr_model"
   ]
  },
  {
   "cell_type": "markdown",
   "id": "645dd801-9a32-4079-b324-67560f01fd86",
   "metadata": {},
   "source": [
    "# Measure computation time"
   ]
  },
  {
   "cell_type": "code",
   "execution_count": null,
   "id": "1110da45-6891-4a55-9a35-da12d546e906",
   "metadata": {},
   "outputs": [],
   "source": [
    "start_time = time.time()\n",
    "\n",
    "for _ in range(5):\n",
    "    seed = 42\n",
    "    set_seeds(seed, use_deterministic=True)\n",
    "\n",
    "    hr_model = make_and_initialize_hr_model(seed=seed, n_ensembles=N_ENSEMBLES)\n",
    "    start_time = time.time()\n",
    "\n",
    "    for i_cycle in tqdm(range(N_CYCLES), total=N_CYCLES):\n",
    "        hr_model.time_integrate(dt=HR_DT, nt=HR_NT, hide_progress_bar=True)\n",
    "        hr_model.calc_grid_data()\n",
    "\n",
    "    end_time = time.time()\n",
    "    logger.info(f\"Total elapsed time = {end_time - start_time} sec\")\n",
    "\n",
    "    assert hr_model.omega.shape == (1, 32, 17)\n",
    "\n",
    "    del hr_model\n",
    "    gc.collect()\n",
    "    torch.cuda.empty_cache()\n",
    "    _ = gc.collect()"
   ]
  },
  {
   "cell_type": "code",
   "execution_count": null,
   "id": "8d14b804-f6c3-43b2-9117-2cf3ef37126e",
   "metadata": {},
   "outputs": [],
   "source": [
    "# CPU\n",
    "(\n",
    "    20.561907291412354\n",
    "    + 19.555678844451904\n",
    "    + 19.424622774124146\n",
    "    + 19.882634162902832\n",
    "    + 20.068907499313354\n",
    ") / 5"
   ]
  },
  {
   "cell_type": "code",
   "execution_count": null,
   "id": "4ea27956-7f83-4869-9ac6-fcaf964512cd",
   "metadata": {},
   "outputs": [],
   "source": [
    "# GPU\n",
    "(\n",
    "    26.677797079086304\n",
    "    + 26.47084355354309\n",
    "    + 26.37486433982849\n",
    "    + 26.40730857849121\n",
    "    + 26.638855934143066\n",
    ") / 5"
   ]
  },
  {
   "cell_type": "code",
   "execution_count": null,
   "id": "550d1c64-6f25-45de-88b4-169089d04609",
   "metadata": {},
   "outputs": [],
   "source": [
    "# oni01, cpu\n",
    "(\n",
    "    28.967981100082397\n",
    "    + 28.795180082321167\n",
    "    + 29.1264705657959\n",
    "    + 28.72107458114624\n",
    "    + 29.051819801330566\n",
    ") / 5"
   ]
  },
  {
   "cell_type": "code",
   "execution_count": null,
   "id": "4fe4e31a-b69a-4521-b6ca-5bf0f1b57617",
   "metadata": {},
   "outputs": [],
   "source": []
  }
 ],
 "metadata": {
  "kernelspec": {
   "display_name": "Python 3 (ipykernel)",
   "language": "python",
   "name": "python3"
  },
  "language_info": {
   "codemirror_mode": {
    "name": "ipython",
    "version": 3
   },
   "file_extension": ".py",
   "mimetype": "text/x-python",
   "name": "python",
   "nbconvert_exporter": "python",
   "pygments_lexer": "ipython3",
   "version": "3.8.12"
  }
 },
 "nbformat": 4,
 "nbformat_minor": 5
}
