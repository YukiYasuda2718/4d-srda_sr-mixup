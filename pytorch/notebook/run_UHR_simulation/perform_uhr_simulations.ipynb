{
 "cells": [
  {
   "cell_type": "code",
   "execution_count": null,
   "id": "e0d4a2dc-908f-4011-ab90-ebe70fa304b0",
   "metadata": {},
   "outputs": [],
   "source": [
    "%load_ext autoreload\n",
    "%autoreload 2\n",
    "%matplotlib inline"
   ]
  },
  {
   "cell_type": "code",
   "execution_count": null,
   "id": "2847bae2-f635-42c5-88c3-63cde874fa6e",
   "metadata": {
    "tags": []
   },
   "outputs": [],
   "source": [
    "import os\n",
    "import pathlib\n",
    "import sys\n",
    "import time\n",
    "import traceback\n",
    "from logging import INFO, WARNING, FileHandler, StreamHandler, getLogger\n",
    "from typing import Callable\n",
    "\n",
    "import matplotlib.pyplot as plt\n",
    "import numpy as np\n",
    "import pandas as pd\n",
    "import torch\n",
    "from cfd_model.cfd.periodic_channel_domain import TorchSpectralModel2D\n",
    "from cfd_model.filter.low_pass_periodic_channel_domain import LowPassFilter\n",
    "from cfd_model.initialization.periodic_channel_jet_initializer import (\n",
    "    calc_init_omega,\n",
    "    calc_init_perturbation_hr_omegas_for_only_low_wavenumber,\n",
    "    calc_jet_forcing,\n",
    ")\n",
    "from cfd_model.interpolator.torch_interpolator import interpolate\n",
    "from IPython.display import HTML, display\n",
    "from src.utils import set_seeds\n",
    "from tqdm.notebook import tqdm"
   ]
  },
  {
   "cell_type": "code",
   "execution_count": null,
   "id": "7a2a0bb3-ad49-4b87-8069-402d28614670",
   "metadata": {},
   "outputs": [],
   "source": [
    "os.environ[\"CUBLAS_WORKSPACE_CONFIG\"] = r\":4096:8\"  # to make calculations deterministic\n",
    "\n",
    "logger = getLogger()\n",
    "logger.addHandler(StreamHandler(sys.stdout))\n",
    "logger.setLevel(INFO)"
   ]
  },
  {
   "cell_type": "markdown",
   "id": "764939b0-77af-416e-a6c1-a25addb73c06",
   "metadata": {},
   "source": [
    "# Define constants"
   ]
  },
  {
   "cell_type": "code",
   "execution_count": null,
   "id": "a481561f-2b04-4d29-b9e1-8ba61bd98d4f",
   "metadata": {},
   "outputs": [],
   "source": [
    "LR_NX = 32\n",
    "LR_NY = 17\n",
    "LR_DT = 5e-4\n",
    "LR_NT = 500\n",
    "\n",
    "HR_NX = 1024\n",
    "HR_NY = 513\n",
    "HR_DT = LR_DT / 32.0\n",
    "HR_NT = LR_NT * 32\n",
    "\n",
    "LR_KX_CUTOFF = 256\n",
    "LR_KY_CUTOFF = 128\n",
    "\n",
    "assert HR_DT * HR_NT == LR_DT * LR_NT\n",
    "\n",
    "N_CYCLES = 100\n",
    "N_ENSEMBLES = 1\n",
    "\n",
    "Y0 = np.pi / 2.0\n",
    "SIGMA = 0.4\n",
    "U0 = 3.0\n",
    "TAU0 = 0.3\n",
    "PERTUB_NOISE = 0.0025\n",
    "\n",
    "BETA = 0.1\n",
    "COEFF_LINEAR_DRAG = 1e-2\n",
    "ORDER_DIFFUSION = 2\n",
    "HR_COEFF_DIFFUSION = 2e-6\n",
    "\n",
    "\n",
    "ROOT_DIR = str((pathlib.Path(os.environ[\"PYTHONPATH\"]) / \"..\").resolve())\n",
    "DEVICE = \"cuda:3\"\n",
    "\n",
    "DF_SEEDS = pd.read_csv(f\"{ROOT_DIR}/pytorch/config/cfd_seeds/seeds01.csv\").set_index(\n",
    "    \"SimulationNumber\"\n",
    ")\n",
    "\n",
    "EXPERIMENT_DIR = f\"{ROOT_DIR}/data/pytorch/CFD/jet27\"\n",
    "os.makedirs(EXPERIMENT_DIR, exist_ok=True)"
   ]
  },
  {
   "cell_type": "markdown",
   "id": "7be24fac-3068-4423-bc6e-46c7fe5397b0",
   "metadata": {},
   "source": [
    "# Define methods"
   ]
  },
  {
   "cell_type": "code",
   "execution_count": null,
   "id": "3448f6a3-909c-4baf-95ab-1d818dc4ad70",
   "metadata": {},
   "outputs": [],
   "source": [
    "def make_and_initialize_hr_model(n_ensembles: int, seed: int, t0: float = 0.0):\n",
    "    logger.setLevel(WARNING)\n",
    "\n",
    "    hr_jet, hr_forcing = calc_jet_forcing(\n",
    "        nx=HR_NX,\n",
    "        ny=HR_NY,\n",
    "        ne=n_ensembles,\n",
    "        y0=Y0,\n",
    "        sigma=SIGMA,\n",
    "        tau0=TAU0,\n",
    "    )\n",
    "\n",
    "    hr_perturb = calc_init_perturbation_hr_omegas_for_only_low_wavenumber(\n",
    "        nx=HR_NX,\n",
    "        ny=HR_NY,\n",
    "        ne=n_ensembles,\n",
    "        noise_amp=PERTUB_NOISE,\n",
    "        seed=seed,\n",
    "        lr_kx_cutoff=LR_KX_CUTOFF,\n",
    "        lr_ky_cutoff=LR_KY_CUTOFF,\n",
    "    )\n",
    "\n",
    "    hr_omega0 = calc_init_omega(\n",
    "        perturb_omega=hr_perturb,\n",
    "        jet=hr_jet,\n",
    "        u0=U0,\n",
    "    )\n",
    "\n",
    "    hr_model = TorchSpectralModel2D(\n",
    "        nx=HR_NX,\n",
    "        ny=HR_NY,\n",
    "        coeff_linear_drag=COEFF_LINEAR_DRAG,\n",
    "        coeff_diffusion=HR_COEFF_DIFFUSION,\n",
    "        order_diffusion=ORDER_DIFFUSION,\n",
    "        beta=BETA,\n",
    "        device=DEVICE,\n",
    "    )\n",
    "    hr_model.initialize(t0=t0, omega0=hr_omega0, forcing=hr_forcing)\n",
    "    hr_model.calc_grid_data()\n",
    "\n",
    "    logger.setLevel(INFO)\n",
    "\n",
    "    return hr_model"
   ]
  },
  {
   "cell_type": "markdown",
   "id": "7584f788-52aa-40eb-9f85-2fc6b38d8e30",
   "metadata": {
    "tags": []
   },
   "source": [
    "# Script"
   ]
  },
  {
   "cell_type": "code",
   "execution_count": null,
   "id": "6d0f4e67-5eda-4b49-9d12-774d0fc04a76",
   "metadata": {},
   "outputs": [],
   "source": [
    "i_seed = 9996\n",
    "seed = DF_SEEDS.loc[i_seed, \"Seed0\"]\n",
    "set_seeds(seed, use_deterministic=True)\n",
    "logger.info(f\"i_seed = {i_seed}, seed = {seed}\")\n",
    "\n",
    "result_dir = f\"{EXPERIMENT_DIR}/seed{i_seed:05}\"\n",
    "os.makedirs(result_dir, exist_ok=False)"
   ]
  },
  {
   "cell_type": "code",
   "execution_count": null,
   "id": "4975fffa-1295-491c-8825-7123dbecb532",
   "metadata": {},
   "outputs": [],
   "source": [
    "hr_model = make_and_initialize_hr_model(seed=seed, n_ensembles=N_ENSEMBLES)"
   ]
  },
  {
   "cell_type": "code",
   "execution_count": null,
   "id": "b7606964-871a-4683-899e-c494c402e226",
   "metadata": {},
   "outputs": [],
   "source": [
    "for i_cycle in tqdm(range(N_CYCLES + 1), total=N_CYCLES + 1):\n",
    "\n",
    "    output_omega = hr_model.omega.cpu().to(torch.float32).numpy()\n",
    "\n",
    "    t = str(np.round(hr_model.t, 2)).replace(\".\", \"p\")\n",
    "    output_path = f\"{result_dir}/omega_i{i_cycle:03}_t{t}.npy\"\n",
    "\n",
    "    np.save(output_path, output_omega)\n",
    "    logger.info(f\"ouput was made: {output_path}\")\n",
    "\n",
    "    hr_model.time_integrate(dt=HR_DT, nt=HR_NT, hide_progress_bar=False)\n",
    "    hr_model.calc_grid_data()"
   ]
  },
  {
   "cell_type": "markdown",
   "id": "b2266c2f-3d18-4ba0-8d29-f1d77238dad2",
   "metadata": {},
   "source": [
    "# Check results"
   ]
  },
  {
   "cell_type": "code",
   "execution_count": null,
   "id": "a82a59cb-cb31-4190-b63d-d63242acf5cb",
   "metadata": {},
   "outputs": [],
   "source": [
    "result_dir = f\"{EXPERIMENT_DIR}/seed{i_seed:05}\"\n",
    "\n",
    "for i in range(0, N_CYCLES, 4):\n",
    "    t = str(np.round(i * LR_DT * LR_NT, 2)).replace(\".\", \"p\")\n",
    "    output_path = f\"{result_dir}/omega_i{i:03}_t{t}.npy\"\n",
    "\n",
    "    omega = np.load(output_path)\n",
    "    assert omega.shape == (1, HR_NX, HR_NY)\n",
    "    omega = omega[0]\n",
    "\n",
    "    xs = np.linspace(0, 2 * np.pi, num=HR_NX, endpoint=False)\n",
    "    ys = np.linspace(0, np.pi, num=HR_NY, endpoint=True)\n",
    "    xs, ys = np.meshgrid(xs, ys, indexing=\"ij\")\n",
    "\n",
    "    fig = plt.figure()\n",
    "    ax = plt.subplot(111)\n",
    "\n",
    "    ax.xaxis.set_ticklabels([])\n",
    "    ax.yaxis.set_ticklabels([])\n",
    "    ax.axes.xaxis.set_visible(False)\n",
    "    ax.axes.yaxis.set_visible(False)\n",
    "    cnts = ax.pcolormesh(xs, ys, omega, vmin=-10, vmax=10)\n",
    "    fig.colorbar(cnts, ax=ax)\n",
    "    ax.set_title(f\"t = {np.round(i * LR_DT * LR_NT, 2)}\")\n",
    "    plt.show()"
   ]
  },
  {
   "cell_type": "code",
   "execution_count": null,
   "id": "c414389e-7697-4563-86a7-b7f786de46d7",
   "metadata": {},
   "outputs": [],
   "source": []
  }
 ],
 "metadata": {
  "kernelspec": {
   "display_name": "Python 3 (ipykernel)",
   "language": "python",
   "name": "python3"
  },
  "language_info": {
   "codemirror_mode": {
    "name": "ipython",
    "version": 3
   },
   "file_extension": ".py",
   "mimetype": "text/x-python",
   "name": "python",
   "nbconvert_exporter": "python",
   "pygments_lexer": "ipython3",
   "version": "3.8.12"
  }
 },
 "nbformat": 4,
 "nbformat_minor": 5
}
