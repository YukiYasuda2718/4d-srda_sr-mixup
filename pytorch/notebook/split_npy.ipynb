{
 "cells": [
  {
   "cell_type": "code",
   "execution_count": null,
   "id": "d4af8639-8fbc-4ca2-ad10-6f3a87e8cbbc",
   "metadata": {},
   "outputs": [],
   "source": [
    "%load_ext autoreload\n",
    "%autoreload 2\n",
    "%matplotlib inline"
   ]
  },
  {
   "cell_type": "code",
   "execution_count": null,
   "id": "04edc4b9-704c-43ad-9e97-809309c71165",
   "metadata": {},
   "outputs": [],
   "source": [
    "import os\n",
    "import pathlib\n",
    "from glob import glob\n",
    "\n",
    "import numpy as np\n",
    "from tqdm.notebook import tqdm"
   ]
  },
  {
   "cell_type": "markdown",
   "id": "8dbd7471-ea81-4de0-9a21-8a744d471dcb",
   "metadata": {},
   "source": [
    "# For analysis train data"
   ]
  },
  {
   "cell_type": "code",
   "execution_count": null,
   "id": "acf604ab-085b-45b5-9b2a-ae53116006b4",
   "metadata": {},
   "outputs": [],
   "source": [
    "ROOT_DIR = str(pathlib.Path.resolve(pathlib.Path(os.environ[\"PYTHONPATH\"]) / \"..\"))\n",
    "SOURCE_EXPERIMENT_NAME = \"jet01\"\n",
    "TARGET_EXPERIMENT_NAME = \"jet02\"\n",
    "\n",
    "SOURCE_DIR = f\"{ROOT_DIR}/data/pytorch/CFD/{SOURCE_EXPERIMENT_NAME}\"\n",
    "TARGET_DIR = f\"{ROOT_DIR}/data/pytorch/CFD/{TARGET_EXPERIMENT_NAME}\""
   ]
  },
  {
   "cell_type": "code",
   "execution_count": null,
   "id": "0c2b4a86-0d33-43fb-85a6-e219fa9ca60c",
   "metadata": {},
   "outputs": [],
   "source": [
    "for dir_path in tqdm(sorted(glob(f\"{SOURCE_DIR}/*\"))):\n",
    "    if not os.path.isdir(dir_path):\n",
    "        continue\n",
    "\n",
    "    assert os.path.basename(dir_path).startswith(\"seed\")\n",
    "\n",
    "    output_dir_path = f\"{TARGET_DIR}/{os.path.basename(dir_path)}\"\n",
    "    os.makedirs(output_dir_path, exist_ok=True)\n",
    "\n",
    "    for file_path in sorted(glob(f\"{dir_path}/*.npy\")):\n",
    "        if \"lr_omega_gaussian\" in file_path:\n",
    "            continue\n",
    "        if \"lr_omega_sobel\" in file_path:\n",
    "            continue\n",
    "\n",
    "        org_data = np.load(file_path)\n",
    "        assert org_data.ndim == 4\n",
    "        assert org_data.shape[0] == 20\n",
    "\n",
    "        for i in range(org_data.shape[0]):\n",
    "            output_data = org_data[i]\n",
    "            output_file_name = os.path.basename(file_path).replace(\n",
    "                \".npy\", f\"_{i:02}.npy\"\n",
    "            )\n",
    "            output_path = f\"{output_dir_path}/{output_file_name}\"\n",
    "            np.save(output_path, output_data)"
   ]
  },
  {
   "cell_type": "code",
   "execution_count": null,
   "id": "81aa4967-9c93-4676-9416-1d745794d0a2",
   "metadata": {},
   "outputs": [],
   "source": [
    "print(\"finished\")"
   ]
  },
  {
   "cell_type": "markdown",
   "id": "5ace1a2a-39bd-4a23-909b-2e526c2076f6",
   "metadata": {},
   "source": [
    "# For forecast train data"
   ]
  },
  {
   "cell_type": "code",
   "execution_count": null,
   "id": "39969cb3-6de6-4946-a572-52a18f83dee4",
   "metadata": {},
   "outputs": [],
   "source": [
    "ROOT_DIR = str(pathlib.Path.resolve(pathlib.Path(os.environ[\"PYTHONPATH\"]) / \"..\"))\n",
    "SOURCE_EXPERIMENT_NAME = \"jet03\"\n",
    "TARGET_EXPERIMENT_NAME = \"jet04\"\n",
    "\n",
    "SOURCE_DIR = f\"{ROOT_DIR}/data/pytorch/CFD/{SOURCE_EXPERIMENT_NAME}\"\n",
    "TARGET_DIR = f\"{ROOT_DIR}/data/pytorch/CFD/{TARGET_EXPERIMENT_NAME}\""
   ]
  },
  {
   "cell_type": "code",
   "execution_count": null,
   "id": "370b7d64-33d0-40a6-a68a-f285d0dbc650",
   "metadata": {},
   "outputs": [],
   "source": [
    "for dir_path in tqdm(sorted(glob(f\"{SOURCE_DIR}/*\"))):\n",
    "    if not os.path.isdir(dir_path):\n",
    "        continue\n",
    "\n",
    "    assert os.path.basename(dir_path).startswith(\"seed\")\n",
    "\n",
    "    output_dir_path = f\"{TARGET_DIR}/{os.path.basename(dir_path)}\"\n",
    "    os.makedirs(output_dir_path, exist_ok=True)\n",
    "\n",
    "    for file_path in sorted(glob(f\"{dir_path}/*.npy\")):\n",
    "        if \"lr_omega_gaussian\" in file_path:\n",
    "            continue\n",
    "        if \"lr_omega_sobel\" in file_path:\n",
    "            continue\n",
    "\n",
    "        org_data = np.load(file_path)\n",
    "        assert org_data.ndim == 4\n",
    "        assert org_data.shape[0] == 20\n",
    "\n",
    "        for i in range(org_data.shape[0]):\n",
    "            output_data = org_data[i]\n",
    "            output_file_name = os.path.basename(file_path).replace(\n",
    "                \".npy\", f\"_{i:02}.npy\"\n",
    "            )\n",
    "            output_path = f\"{output_dir_path}/{output_file_name}\"\n",
    "            np.save(output_path, output_data)"
   ]
  },
  {
   "cell_type": "code",
   "execution_count": null,
   "id": "3570923d-4442-4122-b464-f7ec98ff991e",
   "metadata": {},
   "outputs": [],
   "source": [
    "print(\"finished\")"
   ]
  },
  {
   "cell_type": "code",
   "execution_count": null,
   "id": "74f4db9a-9d05-4193-a314-5587dd7bbfc9",
   "metadata": {},
   "outputs": [],
   "source": []
  }
 ],
 "metadata": {
  "kernelspec": {
   "display_name": "Python 3 (ipykernel)",
   "language": "python",
   "name": "python3"
  },
  "language_info": {
   "codemirror_mode": {
    "name": "ipython",
    "version": 3
   },
   "file_extension": ".py",
   "mimetype": "text/x-python",
   "name": "python",
   "nbconvert_exporter": "python",
   "pygments_lexer": "ipython3",
   "version": "3.8.12"
  }
 },
 "nbformat": 4,
 "nbformat_minor": 5
}
