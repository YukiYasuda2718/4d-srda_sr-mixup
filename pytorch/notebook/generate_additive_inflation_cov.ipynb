{
 "cells": [
  {
   "cell_type": "code",
   "execution_count": null,
   "id": "70b8994f-b4e4-4dcd-8ad0-36f130c98a28",
   "metadata": {},
   "outputs": [],
   "source": [
    "%load_ext autoreload\n",
    "%autoreload 2\n",
    "%matplotlib inline"
   ]
  },
  {
   "cell_type": "code",
   "execution_count": null,
   "id": "e9a8b421-1f63-411d-9cc6-0620cac0c26c",
   "metadata": {},
   "outputs": [],
   "source": [
    "import sys\n",
    "from logging import DEBUG, INFO, WARNING, StreamHandler, getLogger\n",
    "\n",
    "logger = getLogger()\n",
    "if not logger.hasHandlers():\n",
    "    logger.addHandler(StreamHandler(sys.stdout))\n",
    "logger.setLevel(INFO)"
   ]
  },
  {
   "cell_type": "markdown",
   "id": "9eaeeb93-636d-4787-a273-fc0183570544",
   "metadata": {},
   "source": [
    "# Import libraries"
   ]
  },
  {
   "cell_type": "code",
   "execution_count": null,
   "id": "224cb05b-29ad-4ecb-a460-79838335d675",
   "metadata": {},
   "outputs": [],
   "source": [
    "import gc\n",
    "import glob\n",
    "import os\n",
    "import pathlib\n",
    "import random\n",
    "import time\n",
    "import typing\n",
    "\n",
    "import numpy as np\n",
    "import torch\n",
    "from src.dataloader import split_file_paths\n",
    "from src.utils import read_pickle, set_seeds, write_pickle\n",
    "\n",
    "if \"ipykernel\" in sys.modules:\n",
    "    from tqdm.notebook import tqdm\n",
    "else:\n",
    "    from tqdm import tqdm"
   ]
  },
  {
   "cell_type": "code",
   "execution_count": null,
   "id": "6cc1ee16-3413-4662-b64a-cb8090746852",
   "metadata": {},
   "outputs": [],
   "source": [
    "os.environ[\"CUBLAS_WORKSPACE_CONFIG\"] = r\":4096:8\"  # to make calculations deterministic\n",
    "set_seeds(42, use_deterministic=True)"
   ]
  },
  {
   "cell_type": "markdown",
   "id": "347e35dd-9ad5-43cb-a61d-323a5c353631",
   "metadata": {},
   "source": [
    "# Define constants"
   ]
  },
  {
   "cell_type": "code",
   "execution_count": null,
   "id": "985f16e4-d590-47ae-849f-e0464a22f348",
   "metadata": {},
   "outputs": [],
   "source": [
    "ROOT_DIR = str((pathlib.Path(os.environ[\"PYTHONPATH\"]) / \"..\").resolve())\n",
    "ROOT_DIR"
   ]
  },
  {
   "cell_type": "code",
   "execution_count": null,
   "id": "17003f55-223f-4dd5-90d4-365bc93ffbe9",
   "metadata": {},
   "outputs": [],
   "source": [
    "TMP_DATA_DIR = f\"{ROOT_DIR}/data/pytorch\"\n",
    "os.makedirs(TMP_DATA_DIR, exist_ok=True)"
   ]
  },
  {
   "cell_type": "code",
   "execution_count": null,
   "id": "83b11388-67c6-4ff5-9844-65ab038ca99a",
   "metadata": {},
   "outputs": [],
   "source": [
    "DEVICE = \"cpu\""
   ]
  },
  {
   "cell_type": "code",
   "execution_count": null,
   "id": "43268cf5-6144-4653-8f10-ecfcef2bef83",
   "metadata": {},
   "outputs": [],
   "source": [
    "CFD_DIR_NAME = \"jet02\"\n",
    "TRAIN_VALID_TEST_RATIOS = [0.7, 0.2, 0.1]\n",
    "USED_DATA_KIND = \"train\"\n",
    "ASSIMILATION_PERIOD = 4"
   ]
  },
  {
   "cell_type": "markdown",
   "id": "b8d6a1c2-6178-419b-9d9d-6a7fc8c9addc",
   "metadata": {},
   "source": [
    "# Define methods"
   ]
  },
  {
   "cell_type": "code",
   "execution_count": null,
   "id": "c14a0f39-b707-4d60-b183-b3fff880d256",
   "metadata": {},
   "outputs": [],
   "source": [
    "def load_hr_data(\n",
    "    root_dir: str,\n",
    "    cfd_dir_name: str,\n",
    "    train_valid_test_ratios: typing.List[str],\n",
    "    kind: str,\n",
    "    num_hr_omega_sets: int,\n",
    "    max_ens_index: int = 20,\n",
    ") -> torch.Tensor:\n",
    "\n",
    "    cfd_dir_path = f\"{root_dir}/data/pytorch/CFD/{cfd_dir_name}\"\n",
    "    logger.info(f\"CFD dir path = {cfd_dir_path}\")\n",
    "\n",
    "    data_dirs = sorted([p for p in glob.glob(f\"{cfd_dir_path}/*\") if os.path.isdir(p)])\n",
    "\n",
    "    train_dirs, valid_dirs, test_dirs = split_file_paths(\n",
    "        data_dirs, train_valid_test_ratios\n",
    "    )\n",
    "\n",
    "    if kind == \"train\":\n",
    "        target_dirs = train_dirs\n",
    "    elif kind == \"valid\":\n",
    "        target_dirs = valid_dirs\n",
    "    elif kind == \"test\":\n",
    "        target_dirs = test_dirs\n",
    "    else:\n",
    "        raise Exception(f\"{kind} is not supported.\")\n",
    "\n",
    "    logger.info(f\"Kind = {kind}, Num of dirs = {len(target_dirs)}\")\n",
    "\n",
    "    all_hr_omegas = []\n",
    "    for dir_path in sorted(target_dirs):\n",
    "        for i in range(max_ens_index):\n",
    "\n",
    "            hr_omegas = []\n",
    "            for file_path in sorted(glob.glob(f\"{dir_path}/*_hr_omega_{i:02}.npy\")):\n",
    "                data = np.load(file_path)\n",
    "\n",
    "                # This is to avoid overlapping at the start/end point\n",
    "                if len(hr_omegas) > 0:\n",
    "                    data = data[1:]\n",
    "                hr_omegas.append(data)\n",
    "\n",
    "            # Concat along time axis\n",
    "            all_hr_omegas.append(np.concatenate(hr_omegas, axis=0))\n",
    "\n",
    "            if len(all_hr_omegas) == num_hr_omega_sets:\n",
    "                # Concat along batch axis\n",
    "                ret = np.stack(all_hr_omegas, axis=0)\n",
    "                return torch.from_numpy(ret).to(torch.float64)\n",
    "\n",
    "    ret = np.stack(all_hr_omegas, axis=0)\n",
    "    return torch.from_numpy(ret).to(torch.float64)\n",
    "\n",
    "\n",
    "# Set `num_hr_omega_sets` = 50 for the paper\n",
    "def get_cov_for_sys_noise_generator(num_hr_omega_sets: int = 10, eps: float = 1e-10):\n",
    "    hr_omegas = load_hr_data(\n",
    "        root_dir=ROOT_DIR,\n",
    "        cfd_dir_name=CFD_DIR_NAME,\n",
    "        train_valid_test_ratios=TRAIN_VALID_TEST_RATIOS,\n",
    "        kind=\"train\",\n",
    "        num_hr_omega_sets=num_hr_omega_sets,\n",
    "    )\n",
    "    # dims = batch, time, x, and y\n",
    "\n",
    "    logger.info(hr_omegas.shape)\n",
    "\n",
    "    hr_omegas = hr_omegas.reshape(hr_omegas.shape[:2] + (-1,))\n",
    "    hr_omegas = hr_omegas[:, ::ASSIMILATION_PERIOD]\n",
    "\n",
    "    # Inner product over batch dim\n",
    "    all_covs = torch.mean(hr_omegas[..., None, :] * hr_omegas[..., None], dim=0)\n",
    "\n",
    "    # Assure conv is symmetric.\n",
    "    all_covs = (all_covs + all_covs.permute(0, 2, 1)) / 2.0\n",
    "\n",
    "    # Assure positive definiteness\n",
    "    all_covs = all_covs + torch.diag(\n",
    "        torch.full(size=(all_covs.shape[-1],), fill_value=eps)\n",
    "    )\n",
    "\n",
    "    return all_covs"
   ]
  },
  {
   "cell_type": "markdown",
   "id": "e661c167-c56a-4b88-8679-1e178f7d018d",
   "metadata": {},
   "source": [
    "# Generate system noise in advance"
   ]
  },
  {
   "cell_type": "code",
   "execution_count": null,
   "id": "a1480b97-5f3a-4243-b0f1-43334ad72c3c",
   "metadata": {},
   "outputs": [],
   "source": [
    "cov_file_path = f\"{TMP_DATA_DIR}/sys_noise_covs.pickle\"\n",
    "\n",
    "if os.path.exists(cov_file_path):\n",
    "    all_covs = get_cov_for_sys_noise_generator()\n",
    "    write_pickle(all_covs, cov_file_path)\n",
    "else:\n",
    "    all_covs = get_cov_for_sys_noise_generator()\n",
    "    write_pickle(all_covs, cov_file_path)"
   ]
  },
  {
   "cell_type": "code",
   "execution_count": null,
   "id": "34e2e6cc-71c5-4310-9668-348cef31c6ae",
   "metadata": {},
   "outputs": [],
   "source": [
    "all_covs.shape"
   ]
  },
  {
   "cell_type": "code",
   "execution_count": null,
   "id": "48af7290-7d22-4bc8-be02-7e5b61d8a408",
   "metadata": {},
   "outputs": [],
   "source": []
  }
 ],
 "metadata": {
  "kernelspec": {
   "display_name": "Python 3 (ipykernel)",
   "language": "python",
   "name": "python3"
  },
  "language_info": {
   "codemirror_mode": {
    "name": "ipython",
    "version": 3
   },
   "file_extension": ".py",
   "mimetype": "text/x-python",
   "name": "python",
   "nbconvert_exporter": "python",
   "pygments_lexer": "ipython3",
   "version": "3.8.12"
  }
 },
 "nbformat": 4,
 "nbformat_minor": 5
}
