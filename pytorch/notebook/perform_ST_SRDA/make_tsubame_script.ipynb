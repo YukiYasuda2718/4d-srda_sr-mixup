{
 "cells": [
  {
   "cell_type": "code",
   "execution_count": null,
   "id": "c8d8bca6-3529-4aa3-9642-35aea2e2a7b5",
   "metadata": {},
   "outputs": [],
   "source": [
    "import os\n",
    "import pathlib\n",
    "from copy import deepcopy\n",
    "from glob import glob\n",
    "\n",
    "from tqdm.notebook import tqdm"
   ]
  },
  {
   "cell_type": "code",
   "execution_count": null,
   "id": "d2461148-b992-4835-94f7-ae8f6ae2fd53",
   "metadata": {},
   "outputs": [],
   "source": [
    "ROOT_DIR = str(pathlib.Path.resolve(pathlib.Path(os.environ[\"PYTHONPATH\"]) / \"..\"))\n",
    "EXPERIMENT_NAME = \"paper_experiment_06\""
   ]
  },
  {
   "cell_type": "code",
   "execution_count": null,
   "id": "a1a0ffbc-cf2e-47a8-aed9-6c7d2855de83",
   "metadata": {},
   "outputs": [],
   "source": [
    "config_dir = f\"{ROOT_DIR}/pytorch/config/{EXPERIMENT_NAME}\"\n",
    "out_script_dir = (\n",
    "    f\"{ROOT_DIR}/pytorch/script/shell_tsubame/experiments/{EXPERIMENT_NAME}\"\n",
    ")\n",
    "\n",
    "org_shell_script_paths = {\n",
    "    \"_ddp\": f\"{ROOT_DIR}/pytorch/script/shell_tsubame/templete_ddp.sh\",\n",
    "}"
   ]
  },
  {
   "cell_type": "code",
   "execution_count": null,
   "id": "663b0e88-8f54-4f20-b84a-2864f92e5dc8",
   "metadata": {},
   "outputs": [],
   "source": [
    "os.makedirs(out_script_dir, exist_ok=True)"
   ]
  },
  {
   "cell_type": "code",
   "execution_count": null,
   "id": "60c7d582-d678-43ad-b24a-378d7c15e6fd",
   "metadata": {},
   "outputs": [],
   "source": [
    "for config_path in tqdm(glob(f\"{config_dir}/*.yml\")):\n",
    "    config_name = config_path.split(\"/\")[-1]\n",
    "\n",
    "    for suffix, org_script_path in org_shell_script_paths.items():\n",
    "        with open(org_script_path, \"r\") as file:\n",
    "            template_script = file.readlines()\n",
    "\n",
    "        my_script = deepcopy(template_script)\n",
    "\n",
    "        for line_no in range(len(my_script)):\n",
    "            line = my_script[line_no]\n",
    "            line = line.replace(\"EXPERIMENT_NAME\", EXPERIMENT_NAME).replace(\n",
    "                \"CONFIG_NAME\", config_name\n",
    "            )\n",
    "            my_script[line_no] = line\n",
    "\n",
    "        _name = config_name.split(\"/\")[-1].split(\".\")[0] + suffix + \".sh\"\n",
    "        output_file = f\"{out_script_dir}/{_name}\"\n",
    "\n",
    "        if os.path.exists(output_file):\n",
    "            os.remove(output_file)\n",
    "        with open(output_file, \"x\") as file:\n",
    "            file.writelines(my_script)"
   ]
  },
  {
   "cell_type": "code",
   "execution_count": null,
   "id": "8556eca7-a944-49b9-a78f-765b0dbb6415",
   "metadata": {},
   "outputs": [],
   "source": []
  },
  {
   "cell_type": "code",
   "execution_count": null,
   "id": "be827399-b5f9-43fa-85c2-dea412675e44",
   "metadata": {},
   "outputs": [],
   "source": []
  }
 ],
 "metadata": {
  "kernelspec": {
   "display_name": "Python 3 (ipykernel)",
   "language": "python",
   "name": "python3"
  },
  "language_info": {
   "codemirror_mode": {
    "name": "ipython",
    "version": 3
   },
   "file_extension": ".py",
   "mimetype": "text/x-python",
   "name": "python",
   "nbconvert_exporter": "python",
   "pygments_lexer": "ipython3",
   "version": "3.8.12"
  }
 },
 "nbformat": 4,
 "nbformat_minor": 5
}
