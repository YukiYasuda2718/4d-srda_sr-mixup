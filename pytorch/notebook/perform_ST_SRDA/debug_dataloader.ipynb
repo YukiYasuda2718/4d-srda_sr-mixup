{
 "cells": [
  {
   "cell_type": "code",
   "execution_count": null,
   "id": "b9717e9c-63e5-42b5-a886-9b60ac4cd945",
   "metadata": {},
   "outputs": [],
   "source": [
    "%load_ext autoreload\n",
    "%autoreload 2\n",
    "%matplotlib inline"
   ]
  },
  {
   "cell_type": "code",
   "execution_count": null,
   "id": "62a7f324-64b8-4bda-a13c-d776cf970cf9",
   "metadata": {},
   "outputs": [],
   "source": [
    "import sys\n",
    "from logging import DEBUG, INFO, WARNING, StreamHandler, getLogger\n",
    "\n",
    "logger = getLogger()\n",
    "if not any([\"StreamHandler\" in str(handler) for handler in logger.handlers]):\n",
    "    logger.addHandler(StreamHandler(sys.stdout))\n",
    "logger.setLevel(INFO)"
   ]
  },
  {
   "cell_type": "markdown",
   "id": "f790de9f-0c98-40fb-ab12-8e398077dab6",
   "metadata": {},
   "source": [
    "# Import libraries"
   ]
  },
  {
   "cell_type": "code",
   "execution_count": null,
   "id": "67e69057-055d-4890-bf99-9a39d7b7dc9f",
   "metadata": {},
   "outputs": [],
   "source": [
    "import gc\n",
    "import glob\n",
    "import os\n",
    "import pathlib\n",
    "import typing\n",
    "\n",
    "import matplotlib.pyplot as plt\n",
    "import numpy as np\n",
    "import torch\n",
    "import yaml\n",
    "from cfd_model.interpolator.torch_interpolator import interpolate\n",
    "from IPython.display import HTML, display\n",
    "from src.dataloader import (\n",
    "    _make_dataloaders_vorticity_making_observation_inside_time_series_splitted_with_mixup,\n",
    "    make_dataloaders_vorticity_making_observation_inside_time_series_splitted,\n",
    "    split_file_paths,\n",
    ")\n",
    "from src.dataset import DatasetMakingObsInsideTimeseriesSplittedWithMixupRandomSampling\n",
    "from src.utils import set_seeds\n",
    "from tqdm.notebook import tqdm"
   ]
  },
  {
   "cell_type": "code",
   "execution_count": null,
   "id": "5ace5a9b-73cc-4eec-9095-fc92d39308d1",
   "metadata": {},
   "outputs": [],
   "source": [
    "set_seeds(42)"
   ]
  },
  {
   "cell_type": "markdown",
   "id": "e81a4f69-8af8-47c3-b1dc-0d783c9d559c",
   "metadata": {},
   "source": [
    "# Define constants"
   ]
  },
  {
   "cell_type": "code",
   "execution_count": null,
   "id": "72f6edd2-27bf-4a75-a108-10de5fb12d7e",
   "metadata": {},
   "outputs": [],
   "source": [
    "ROOT_DIR = str((pathlib.Path(os.environ[\"PYTHONPATH\"]) / \"..\").resolve())\n",
    "ROOT_DIR"
   ]
  },
  {
   "cell_type": "code",
   "execution_count": null,
   "id": "cce550f8-5ebf-40fc-a085-04ef618365f2",
   "metadata": {},
   "outputs": [],
   "source": [
    "PYTORCH_DATA_DIR = f\"{ROOT_DIR}/data/pytorch\"\n",
    "\n",
    "CFD_NAME = \"jet26\"\n",
    "TRAIN_VALID_TEST_RATIOS = [0.7, 0.2, 0.1]\n",
    "BATCH_SIZE = 32\n",
    "\n",
    "OBS_GRID_INTERVAL = 8\n",
    "OBS_TIME_INTERVAL = 4\n",
    "OBS_NOISE_STD = 0.1\n",
    "LR_TIME_INTERVAL = 2\n",
    "BIAS = -14.5\n",
    "SCALE = 29\n",
    "\n",
    "CFD_DATA_DIR = f\"{PYTORCH_DATA_DIR}/CFD/{CFD_NAME}\""
   ]
  },
  {
   "cell_type": "markdown",
   "id": "07ca2f3b-5801-4b8b-b273-483207c01043",
   "metadata": {
    "tags": []
   },
   "source": [
    "# Define methods"
   ]
  },
  {
   "cell_type": "code",
   "execution_count": null,
   "id": "9b225fe2-fe60-4710-b770-40968ab3a0be",
   "metadata": {},
   "outputs": [],
   "source": [
    "def plot(\n",
    "    gt,\n",
    "    obs,\n",
    "    lr,\n",
    "    dt: float = 0.25,\n",
    "    input_interval: int = 1,\n",
    "    missing_value: float = np.nan,\n",
    "):\n",
    "    n_times = gt.shape[0]\n",
    "\n",
    "    for j_sample, i_time in enumerate(range(0, n_times, input_interval)):\n",
    "        t = dt * i_time\n",
    "\n",
    "        _hr = gt[i_time].squeeze()\n",
    "        nx = _hr.shape[0]\n",
    "        ny = _hr.shape[1]\n",
    "\n",
    "        dict_data = {\n",
    "            \"HR\": _hr,\n",
    "            \"HR(obs)\": obs[i_time].squeeze(),\n",
    "            \"LR\": interpolate(\n",
    "                lr[j_sample : j_sample + 1].squeeze(1), nx=nx, ny=ny\n",
    "            ).squeeze(),\n",
    "        }\n",
    "\n",
    "        vmin_omega = np.quantile(_hr.numpy().flatten(), 0.01)\n",
    "        vmax_omega = np.quantile(_hr.numpy().flatten(), 0.99)\n",
    "\n",
    "        fig, axes = plt.subplots(\n",
    "            1, len(dict_data), figsize=[10, 2], sharex=True, sharey=True\n",
    "        )\n",
    "\n",
    "        hr_gt = None\n",
    "        for ax, (label, data) in zip(axes, dict_data.items()):\n",
    "            if label.startswith(\"LR\"):\n",
    "                diff = hr_gt - data\n",
    "                mae = torch.mean(torch.abs(diff)).item()\n",
    "                ttl = f\"MAE = {mae:.4f}\\n{label} \"\n",
    "            elif label == \"HR\":\n",
    "                hr_gt = data\n",
    "                ttl = f\"t = {t:.2f}\\n{label}\"\n",
    "            else:\n",
    "                if np.isnan(missing_value):\n",
    "                    diff = torch.where(\n",
    "                        torch.isnan(data), torch.zeros_like(data), data - hr_gt\n",
    "                    )\n",
    "                    print(\n",
    "                        \"non-missing grid ratio\",\n",
    "                        1.0 - torch.sum(torch.isnan(data)) / (nx * ny),\n",
    "                    )\n",
    "                else:\n",
    "                    diff = torch.where(\n",
    "                        data == missing_value, torch.zeros_like(data), data - hr_gt\n",
    "                    )\n",
    "                mae = torch.max(torch.abs(diff)).item()\n",
    "                ttl = f\"max diff = {mae:.4f}\\n{label}\"\n",
    "\n",
    "            d = np.squeeze(data.numpy()).transpose()\n",
    "            print(label, d.shape)\n",
    "\n",
    "            xs = np.linspace(0, 2 * np.pi, num=d.shape[0], endpoint=False)\n",
    "            ys = np.linspace(0, np.pi, num=d.shape[1], endpoint=False)\n",
    "            xs, ys = np.meshgrid(xs, ys, indexing=\"ij\")\n",
    "\n",
    "            ax.pcolormesh(xs, ys, d, cmap=\"bwr\", vmin=vmin_omega, vmax=vmax_omega)\n",
    "            ax.set_title(ttl)\n",
    "\n",
    "            ax.xaxis.set_ticklabels([])\n",
    "            ax.yaxis.set_ticklabels([])\n",
    "            ax.axes.xaxis.set_visible(False)\n",
    "            ax.axes.yaxis.set_visible(False)\n",
    "\n",
    "        plt.tight_layout()\n",
    "        plt.show()"
   ]
  },
  {
   "cell_type": "markdown",
   "id": "fecf3772-6e9e-443b-a383-7042526f2c99",
   "metadata": {
    "jp-MarkdownHeadingCollapsed": true,
    "tags": []
   },
   "source": [
    "# Get data dirs"
   ]
  },
  {
   "cell_type": "code",
   "execution_count": null,
   "id": "b54f1ddd-7699-4010-8aaa-c333cd0ccca4",
   "metadata": {},
   "outputs": [],
   "source": [
    "data_dirs = sorted([p for p in glob.glob(f\"{CFD_DATA_DIR}/*\") if os.path.isdir(p)])"
   ]
  },
  {
   "cell_type": "code",
   "execution_count": null,
   "id": "010defc4-1f5e-41c7-a044-9e37a585948a",
   "metadata": {},
   "outputs": [],
   "source": [
    "len(data_dirs)"
   ]
  },
  {
   "cell_type": "code",
   "execution_count": null,
   "id": "0b3c3858-6fd4-40d2-aa80-24ffb818880c",
   "metadata": {},
   "outputs": [],
   "source": [
    "len(data_dirs) * 20"
   ]
  },
  {
   "cell_type": "markdown",
   "id": "d982cdde-24a9-4ef2-8462-6464aa50763a",
   "metadata": {
    "jp-MarkdownHeadingCollapsed": true,
    "tags": []
   },
   "source": [
    "# Debug dataset"
   ]
  },
  {
   "cell_type": "code",
   "execution_count": null,
   "id": "bc31a39d-578a-4bcf-b1f6-63151915308b",
   "metadata": {},
   "outputs": [],
   "source": [
    "def beta_dist_pdf(alpha, beta, num=1000):\n",
    "    xs = np.linspace(0, 1, num=num, endpoint=False)\n",
    "    pdfs = np.power(xs, alpha - 1) * np.power(1 - xs, beta - 1)\n",
    "    dx = 1.0 / num\n",
    "    normalization = np.sum(pdfs) * dx\n",
    "\n",
    "    mode = (alpha - 1) / (alpha + beta - 2)\n",
    "    var = (alpha * beta) / (alpha + beta + 1) / (alpha + beta) ** 2\n",
    "    print(f\"mode = {mode}, var = {var}\")\n",
    "\n",
    "    return xs, pdfs / normalization"
   ]
  },
  {
   "cell_type": "code",
   "execution_count": null,
   "id": "8873ba97-2ff6-44db-b4c9-2ce7954c7d49",
   "metadata": {},
   "outputs": [],
   "source": [
    "for alpha in [2.0]:\n",
    "    for beta in np.arange(2.0, 25.0, 2):\n",
    "        xs, pdfs = beta_dist_pdf(alpha, beta)\n",
    "        plt.plot(xs, pdfs)\n",
    "\n",
    "        samples = np.random.beta(a=alpha, b=beta, size=10000)\n",
    "        plt.hist(samples, density=True, range=(0, 1), bins=51)\n",
    "\n",
    "        plt.title(f\"alpha = {alpha}, beta = {beta}\")\n",
    "        plt.show()"
   ]
  },
  {
   "cell_type": "code",
   "execution_count": null,
   "id": "c3a70467-67dd-412e-9b6b-cf74e4a0f2c8",
   "metadata": {},
   "outputs": [],
   "source": [
    "lst_lr_names = [\n",
    "    \"lr_omega_no-noise\",\n",
    "]"
   ]
  },
  {
   "cell_type": "code",
   "execution_count": null,
   "id": "46ddc2a2-dfd6-42f1-bee3-155be2854a0b",
   "metadata": {},
   "outputs": [],
   "source": [
    "data_dirs[0]"
   ]
  },
  {
   "cell_type": "code",
   "execution_count": null,
   "id": "767534ba-7d61-41e8-9e99-d7a18039381c",
   "metadata": {},
   "outputs": [],
   "source": [
    "logger.setLevel(DEBUG)\n",
    "dataset = DatasetMakingObsInsideTimeseriesSplittedWithMixupRandomSampling(\n",
    "    data_dirs=data_dirs,\n",
    "    lr_kind_names=lst_lr_names,\n",
    "    lr_time_interval=LR_TIME_INTERVAL,\n",
    "    obs_grid_interval=OBS_GRID_INTERVAL,\n",
    "    obs_time_interval=OBS_TIME_INTERVAL,\n",
    "    obs_noise_std=OBS_NOISE_STD,\n",
    "    use_observation=True,\n",
    "    vorticity_bias=BIAS,\n",
    "    vorticity_scale=SCALE,\n",
    "    use_ground_truth_clamping=True,\n",
    "    use_mixup=True,\n",
    "    use_mixup_init_time=False,\n",
    "    beta_dist_alpha=2.0,\n",
    "    beta_dist_beta=2.0,\n",
    "    is_last_obs_missing=True,\n",
    "    min_start_time_index=-1,\n",
    "    max_start_time_index=92,\n",
    ")\n",
    "logger.setLevel(INFO)"
   ]
  },
  {
   "cell_type": "code",
   "execution_count": null,
   "id": "8248c983-74e2-4312-bb37-5a6af4a5e781",
   "metadata": {},
   "outputs": [],
   "source": [
    "len(dataset)"
   ]
  },
  {
   "cell_type": "code",
   "execution_count": null,
   "id": "ab05a843-c89f-4acd-be2a-0f1f10504686",
   "metadata": {},
   "outputs": [],
   "source": [
    "dataset.hr_file_paths"
   ]
  },
  {
   "cell_type": "code",
   "execution_count": null,
   "id": "9cca2fa6-d2c5-44b0-9296-9aa9aa15a2be",
   "metadata": {},
   "outputs": [],
   "source": [
    "logger.setLevel(DEBUG)\n",
    "target_lr, source_lr, hr = dataset._load_np_data(777)\n",
    "target_lr.shape, source_lr.shape, hr.shape"
   ]
  },
  {
   "cell_type": "code",
   "execution_count": null,
   "id": "4c1a76a4-a3b9-4027-aa7c-fef629948566",
   "metadata": {},
   "outputs": [],
   "source": [
    "logger.setLevel(DEBUG)\n",
    "lr, obs, gt = dataset.__getitem__(3900)\n",
    "logger.setLevel(INFO)\n",
    "lr.shape, obs.shape, gt.shape"
   ]
  },
  {
   "cell_type": "code",
   "execution_count": null,
   "id": "34eb959e-6631-4572-b3a7-e1fb3cde02f5",
   "metadata": {},
   "outputs": [],
   "source": [
    "plot(\n",
    "    gt,\n",
    "    obs,\n",
    "    lr,\n",
    "    input_interval=LR_TIME_INTERVAL,\n",
    "    dt=0.25,\n",
    "    missing_value=0.0,\n",
    ")"
   ]
  },
  {
   "cell_type": "markdown",
   "id": "de1d9505-fffa-44fa-b4b0-429928645113",
   "metadata": {
    "jp-MarkdownHeadingCollapsed": true,
    "tags": []
   },
   "source": [
    "# Debug dataloader"
   ]
  },
  {
   "cell_type": "code",
   "execution_count": null,
   "id": "a675cc01-ef78-408c-9571-644ce98df1aa",
   "metadata": {},
   "outputs": [],
   "source": [
    "data_dirs = sorted([p for p in glob.glob(f\"{CFD_DATA_DIR}/*\") if os.path.isdir(p)])\n",
    "train_dirs, valid_dirs, test_dirs = split_file_paths(data_dirs, TRAIN_VALID_TEST_RATIOS)\n",
    "len(train_dirs), len(valid_dirs), len(test_dirs)"
   ]
  },
  {
   "cell_type": "code",
   "execution_count": null,
   "id": "85ce4462-2075-49c1-aac7-ed98d59f939d",
   "metadata": {},
   "outputs": [],
   "source": [
    "dict_data_dirs = {\"train\": train_dirs, \"valid\": valid_dirs, \"test\": test_dirs}"
   ]
  },
  {
   "cell_type": "code",
   "execution_count": null,
   "id": "7162722e-5b9f-46d4-b067-5dbb8e9f9748",
   "metadata": {},
   "outputs": [],
   "source": [
    "lst_lr_names = [\n",
    "    \"lr_omega_no-noise\",\n",
    "]"
   ]
  },
  {
   "cell_type": "code",
   "execution_count": null,
   "id": "bb64969f-2cba-4384-83b6-652baf1fb426",
   "metadata": {},
   "outputs": [],
   "source": [
    "(\n",
    "    dict_dataloaders,\n",
    "    _,\n",
    ") = _make_dataloaders_vorticity_making_observation_inside_time_series_splitted_with_mixup(\n",
    "    dict_dir_paths=dict_data_dirs,\n",
    "    lr_kind_names=lst_lr_names,\n",
    "    lr_time_interval=LR_TIME_INTERVAL,\n",
    "    obs_time_interval=OBS_TIME_INTERVAL,\n",
    "    obs_grid_interval=OBS_GRID_INTERVAL,\n",
    "    obs_noise_std=OBS_NOISE_STD,\n",
    "    use_observation=True,\n",
    "    vorticity_bias=BIAS,\n",
    "    vorticity_scale=SCALE,\n",
    "    batch_size=BATCH_SIZE,\n",
    "    use_mixup=False,\n",
    "    use_mixup_init_time=False,\n",
    "    beta_dist_alpha=2.0,\n",
    "    beta_dist_beta=30.0,\n",
    "    is_last_obs_missing=True,\n",
    "    min_start_time_index=-1,\n",
    "    max_start_time_index=92,\n",
    ")"
   ]
  },
  {
   "cell_type": "code",
   "execution_count": null,
   "id": "d1e2a2fb-05f3-47ae-add6-f27857edfb61",
   "metadata": {},
   "outputs": [],
   "source": [
    "i_batch = 10\n",
    "for kind in [\"train\", \"valid\", \"test\"]:\n",
    "    display(HTML(f\"<h2>{kind}</h2>\"))\n",
    "    lr, obs, hr = next(iter(dict_dataloaders[kind]))\n",
    "    print(lr.shape, obs.shape, hr.shape)\n",
    "    plot(\n",
    "        hr[i_batch],\n",
    "        obs[i_batch],\n",
    "        lr[i_batch],\n",
    "        dt=0.25,\n",
    "        missing_value=0,\n",
    "        input_interval=LR_TIME_INTERVAL,\n",
    "    )"
   ]
  },
  {
   "cell_type": "markdown",
   "id": "42da498b-e9cf-445f-bee9-b58f15ee0c66",
   "metadata": {
    "jp-MarkdownHeadingCollapsed": true,
    "tags": []
   },
   "source": [
    "# Check histograms"
   ]
  },
  {
   "cell_type": "code",
   "execution_count": null,
   "id": "b017aa31-fa12-4e2b-9a3c-ad58f3940279",
   "metadata": {},
   "outputs": [],
   "source": [
    "data_dirs = sorted([p for p in glob.glob(f\"{CFD_DATA_DIR}/*\") if os.path.isdir(p)])\n",
    "train_dirs, valid_dirs, test_dirs = split_file_paths(data_dirs, TRAIN_VALID_TEST_RATIOS)\n",
    "len(train_dirs), len(valid_dirs), len(test_dirs)"
   ]
  },
  {
   "cell_type": "code",
   "execution_count": null,
   "id": "cda4d372-0cce-4038-9c38-620e4733e2e3",
   "metadata": {},
   "outputs": [],
   "source": [
    "dict_data_dirs = {\"train\": train_dirs, \"valid\": valid_dirs, \"test\": test_dirs}"
   ]
  },
  {
   "cell_type": "code",
   "execution_count": null,
   "id": "aba1dd74-7655-4973-bb3a-33c467c35a38",
   "metadata": {},
   "outputs": [],
   "source": [
    "lst_lr_names = []\n",
    "for i_amp in [\n",
    "    9.0,\n",
    "]:\n",
    "    i = int(i_amp)\n",
    "    lst_lr_names.append(f\"lr_omega_gaussian_0p{i}\")\n",
    "    lst_lr_names.append(f\"lr_omega_sobel_y_p0p{i}\")\n",
    "    lst_lr_names.append(f\"lr_omega_sobel_y_n0p{i}\")\n",
    "    lst_lr_names.append(f\"lr_omega_sobel_x_p0p{i}\")\n",
    "    lst_lr_names.append(f\"lr_omega_sobel_x_n0p{i}\")\n",
    "lst_lr_names"
   ]
  },
  {
   "cell_type": "code",
   "execution_count": null,
   "id": "8755c28c-eabb-4380-b6d1-f911f861509f",
   "metadata": {},
   "outputs": [],
   "source": [
    "(\n",
    "    dict_dataloaders,\n",
    "    _,\n",
    ") = _make_dataloaders_vorticity_making_observation_inside_time_series_splitted(\n",
    "    dict_dir_paths=dict_data_dirs,\n",
    "    lr_kind_names=lst_lr_names,\n",
    "    lr_time_interval=LR_TIME_INTERVAL,\n",
    "    obs_time_interval=OBS_TIME_INTERVAL,\n",
    "    obs_grid_interval=OBS_GRID_INTERVAL,\n",
    "    obs_noise_std=OBS_NOISE_STD,\n",
    "    use_observation=True,\n",
    "    vorticity_bias=BIAS,\n",
    "    vorticity_scale=SCALE,\n",
    "    batch_size=BATCH_SIZE,\n",
    ")"
   ]
  },
  {
   "cell_type": "code",
   "execution_count": null,
   "id": "8d8cae5d-3859-447f-8a77-ea7eb934ecdb",
   "metadata": {},
   "outputs": [],
   "source": [
    "lr_data, obs_data, hr_data = (\n",
    "    {\"ω\": []},\n",
    "    {\"ω\": []},\n",
    "    {\"ω\": []},\n",
    ")\n",
    "\n",
    "for kind in [\"train\", \"valid\"]:\n",
    "    for lr, obs, hr in tqdm(dict_dataloaders[kind], total=len(dict_dataloaders[kind])):\n",
    "        for idx_var, name_var in enumerate([\"ω\"]):\n",
    "            lr_data[name_var] += list(lr[:, :, idx_var, ::2, ::2].numpy().flatten())\n",
    "            hr_data[name_var] += list(hr[:, :, idx_var, ::8, ::8].numpy().flatten())\n",
    "            obs_data[name_var] += list(obs[:, :, idx_var, ::8, ::8].numpy().flatten())"
   ]
  },
  {
   "cell_type": "code",
   "execution_count": null,
   "id": "54752b89-46fb-4264-803d-4377f46965f3",
   "metadata": {},
   "outputs": [],
   "source": [
    "fig, axes = plt.subplots(1, 3, figsize=[15, 5])\n",
    "name_var = \"ω\"\n",
    "\n",
    "for i, (name_data, data) in enumerate(\n",
    "    zip([\"LR\", \"OBS\", \"HR\"], [lr_data, obs_data, hr_data])\n",
    "):\n",
    "\n",
    "    ax = axes[i]\n",
    "    xs = data[name_var]\n",
    "\n",
    "    vmin = np.nanquantile(xs, 0.00001)\n",
    "    vmax = np.nanquantile(xs, 0.99999)\n",
    "    mean = np.nanmean(np.abs(xs))\n",
    "\n",
    "    print(\n",
    "        f\"{name_data}:{name_var}, vmin={vmin:.3f}, vmax={vmax:.3f}, mean={mean}, scale={vmax-vmin:.3f}, len={len(xs)}\"\n",
    "    )\n",
    "    ax.set_title(\n",
    "        f\"{name_data}:{name_var}\\nvmin={vmin:.3f},vmax={vmax:.3f}\\nmean={mean},len={len(xs)}\"\n",
    "    )\n",
    "    ax.hist(xs, range=(vmin, vmax), bins=21)\n",
    "\n",
    "plt.tight_layout()\n",
    "plt.show()"
   ]
  },
  {
   "cell_type": "code",
   "execution_count": null,
   "id": "3d7fac61-91c7-42bd-b4e7-de0d5669e580",
   "metadata": {},
   "outputs": [],
   "source": [
    "# import gc\n",
    "\n",
    "# del lr_data, obs_data, hr_data\n",
    "# _ = gc.collect()"
   ]
  },
  {
   "cell_type": "markdown",
   "id": "6000985f-592f-4753-97b1-8b9960f6c85a",
   "metadata": {},
   "source": [
    "# Make dataloader from config"
   ]
  },
  {
   "cell_type": "code",
   "execution_count": null,
   "id": "77267b4d-3573-4dc6-8bc7-4d2ec1c91262",
   "metadata": {},
   "outputs": [],
   "source": [
    "CONFIG_PATH = f\"{ROOT_DIR}/pytorch/config/paper_experiment_06/lt4og12_on1e-01_ep1000_lr1e-04_scT_bT_muT_a02_b02_sd221958.yml\"\n",
    "with open(CONFIG_PATH) as file:\n",
    "    config = yaml.safe_load(file)"
   ]
  },
  {
   "cell_type": "code",
   "execution_count": null,
   "id": "080be4fd-1368-4e11-9e3b-135cde03e5a1",
   "metadata": {},
   "outputs": [],
   "source": [
    "config"
   ]
  },
  {
   "cell_type": "code",
   "execution_count": null,
   "id": "7d3cd30f-0498-4d2a-9b58-45bc67b2dc3f",
   "metadata": {},
   "outputs": [],
   "source": [
    "(\n",
    "    dict_dataloaders,\n",
    "    _,\n",
    ") = make_dataloaders_vorticity_making_observation_inside_time_series_splitted(\n",
    "    ROOT_DIR, config\n",
    ")"
   ]
  },
  {
   "cell_type": "code",
   "execution_count": null,
   "id": "c68b36eb-7fec-40fe-bf8e-e22eff88c0c3",
   "metadata": {},
   "outputs": [],
   "source": [
    "dict_dataloaders[\"test\"].dataset.hr_file_paths"
   ]
  },
  {
   "cell_type": "code",
   "execution_count": null,
   "id": "2d831281-2c6d-4340-bc92-8decc09d63ee",
   "metadata": {},
   "outputs": [],
   "source": [
    "i_batch = 16\n",
    "for kind in [\"train\", \"valid\", \"test\"]:\n",
    "    display(HTML(f\"<h2>{kind}</h2>\"))\n",
    "    lr, obs, hr = next(iter(dict_dataloaders[kind]))\n",
    "    print(lr.shape, obs.shape, hr.shape)\n",
    "    plot(\n",
    "        hr[i_batch],\n",
    "        obs[i_batch],\n",
    "        lr[i_batch],\n",
    "        dt=0.25,\n",
    "        missing_value=0.0,\n",
    "        input_interval=config[\"data\"][\"lr_time_interval\"],\n",
    "    )"
   ]
  },
  {
   "cell_type": "code",
   "execution_count": null,
   "id": "598f07fe-d2ca-4fd4-a3b2-78fdacd7467c",
   "metadata": {},
   "outputs": [],
   "source": [
    "lr, obs, hr = next(iter(dict_dataloaders[\"train\"]))"
   ]
  },
  {
   "cell_type": "code",
   "execution_count": null,
   "id": "50708afc-791d-4fcd-8458-49999735754f",
   "metadata": {},
   "outputs": [],
   "source": [
    "lr.shape, obs.shape, hr.shape"
   ]
  },
  {
   "cell_type": "code",
   "execution_count": null,
   "id": "246a79f2-6c12-46ed-bb20-c92882e85351",
   "metadata": {},
   "outputs": [],
   "source": [
    "for data in obs[0]:\n",
    "    plt.imshow(data[0])\n",
    "    plt.show()"
   ]
  },
  {
   "cell_type": "code",
   "execution_count": null,
   "id": "f915bf0f-4e22-411c-acc6-9a022dfe3ecf",
   "metadata": {},
   "outputs": [],
   "source": []
  }
 ],
 "metadata": {
  "kernelspec": {
   "display_name": "Python 3 (ipykernel)",
   "language": "python",
   "name": "python3"
  },
  "language_info": {
   "codemirror_mode": {
    "name": "ipython",
    "version": 3
   },
   "file_extension": ".py",
   "mimetype": "text/x-python",
   "name": "python",
   "nbconvert_exporter": "python",
   "pygments_lexer": "ipython3",
   "version": "3.8.12"
  }
 },
 "nbformat": 4,
 "nbformat_minor": 5
}
