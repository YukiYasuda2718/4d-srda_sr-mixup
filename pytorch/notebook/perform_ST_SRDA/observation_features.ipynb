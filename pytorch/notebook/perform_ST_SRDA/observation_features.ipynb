{
 "cells": [
  {
   "cell_type": "code",
   "execution_count": null,
   "id": "f41016fb-f196-4327-938c-d16ca860dba6",
   "metadata": {},
   "outputs": [],
   "source": [
    "%load_ext autoreload\n",
    "%autoreload 2\n",
    "%matplotlib inline"
   ]
  },
  {
   "cell_type": "code",
   "execution_count": null,
   "id": "1109dfe1-4752-4aba-9927-412cc9bac8c9",
   "metadata": {},
   "outputs": [],
   "source": [
    "import sys\n",
    "from logging import DEBUG, INFO, WARNING, StreamHandler, getLogger\n",
    "\n",
    "logger = getLogger()\n",
    "if not any([\"StreamHandler\" in str(handler) for handler in logger.handlers]):\n",
    "    logger.addHandler(StreamHandler(sys.stdout))\n",
    "logger.setLevel(INFO)"
   ]
  },
  {
   "cell_type": "markdown",
   "id": "18ff3d0c-158a-4e55-8ad1-dcb95dc880f3",
   "metadata": {},
   "source": [
    "# Import libraries"
   ]
  },
  {
   "cell_type": "code",
   "execution_count": null,
   "id": "9a862ea7-9414-4e0d-b678-c5792d0e96ba",
   "metadata": {},
   "outputs": [],
   "source": [
    "import gc\n",
    "import glob\n",
    "import os\n",
    "import pathlib\n",
    "import random\n",
    "from collections import OrderedDict\n",
    "\n",
    "import matplotlib.animation as animation\n",
    "import matplotlib.pyplot as plt\n",
    "import numpy as np\n",
    "import pandas as pd\n",
    "import torch\n",
    "import yaml\n",
    "from cfd_model.interpolator.torch_interpolator import (\n",
    "    interpolate,\n",
    "    interpolate_time_series,\n",
    ")\n",
    "from IPython.display import display\n",
    "from src.dataloader import (\n",
    "    make_dataloaders_vorticity_making_observation_inside_time_series_splitted,\n",
    ")\n",
    "from src.model_maker import make_model\n",
    "from src.ssim import SSIM\n",
    "from src.utils import AverageMeter, set_seeds\n",
    "from tqdm.notebook import tqdm\n",
    "\n",
    "pd.set_option(\"display.max_columns\", 500)\n",
    "pd.set_option(\"display.max_rows\", 500)"
   ]
  },
  {
   "cell_type": "code",
   "execution_count": null,
   "id": "5b8c0e21-af29-45ea-ae12-386de09d38ab",
   "metadata": {},
   "outputs": [],
   "source": [
    "os.environ[\"CUBLAS_WORKSPACE_CONFIG\"] = r\":4096:8\"  # to make calculations deterministic\n",
    "set_seeds(42, use_deterministic=True)"
   ]
  },
  {
   "cell_type": "markdown",
   "id": "50d9a573-5ea5-4e0e-b026-61f522908f60",
   "metadata": {},
   "source": [
    "# Define constants"
   ]
  },
  {
   "cell_type": "code",
   "execution_count": null,
   "id": "dc1324e8-fd38-4c97-8dfe-58b5351f7fd0",
   "metadata": {},
   "outputs": [],
   "source": [
    "ROOT_DIR = str((pathlib.Path(os.environ[\"PYTHONPATH\"]) / \"..\").resolve())\n",
    "ROOT_DIR"
   ]
  },
  {
   "cell_type": "code",
   "execution_count": null,
   "id": "ea08f7a7-cb6c-46c6-9e5a-d8c3997ddded",
   "metadata": {},
   "outputs": [],
   "source": [
    "TMP_DATA_DIR = \"./data\"\n",
    "os.makedirs(TMP_DATA_DIR, exist_ok=True)"
   ]
  },
  {
   "cell_type": "code",
   "execution_count": null,
   "id": "4d70fe06-9eb2-4a2c-aa38-6c7c437d4874",
   "metadata": {},
   "outputs": [],
   "source": [
    "CSV_DATA_DIR = \"./csv\"\n",
    "os.makedirs(CSV_DATA_DIR, exist_ok=True)"
   ]
  },
  {
   "cell_type": "code",
   "execution_count": null,
   "id": "612c7881-319a-42a1-ba72-a6201c207ebd",
   "metadata": {},
   "outputs": [],
   "source": [
    "CONFIG_DIR = f\"{ROOT_DIR}/pytorch/config/paper_experiment_06\"\n",
    "CONFIG_PATHS = sorted(glob.glob(f\"{CONFIG_DIR}/*.yml\"))"
   ]
  },
  {
   "cell_type": "code",
   "execution_count": null,
   "id": "b6578f8d-1400-4116-8a8b-34dfd811e7e2",
   "metadata": {},
   "outputs": [],
   "source": [
    "ASSIMILATION_PERIOD = 4\n",
    "FORECAST_SPAN = 4\n",
    "START_TIME_INDEX = 16\n",
    "MAX_START_TIME_INDEX = 92\n",
    "\n",
    "LR_NX = 32\n",
    "LR_NY = 17\n",
    "LR_DT = 5e-4\n",
    "LR_NT = 500\n",
    "\n",
    "HR_NX = 128\n",
    "HR_NY = 65\n",
    "\n",
    "Y0_MEAN = np.pi / 2.0\n",
    "SIGMA_MEAN = 0.4\n",
    "TAU0_MEAN = 0.3\n",
    "\n",
    "BETA = 0.1\n",
    "COEFF_LINEAR_DRAG = 1e-2\n",
    "ORDER_DIFFUSION = 2\n",
    "HR_COEFF_DIFFUSION = 1e-5\n",
    "LR_COEFF_DIFFUSION = 5e-5\n",
    "\n",
    "DT = LR_DT * LR_NT\n",
    "T0 = START_TIME_INDEX * LR_DT * LR_NT\n",
    "\n",
    "N_ENS_PER_CHUNK = 125"
   ]
  },
  {
   "cell_type": "code",
   "execution_count": null,
   "id": "137352bf-399a-4a3b-9bdb-c37602bfe229",
   "metadata": {},
   "outputs": [],
   "source": [
    "DEVICE = \"cuda:1\"\n",
    "if not torch.cuda.is_available():\n",
    "    raise Exception(\"No GPU. CPU is used.\")"
   ]
  },
  {
   "cell_type": "code",
   "execution_count": null,
   "id": "53b46390-586b-47bd-bf06-ac6a29862479",
   "metadata": {},
   "outputs": [],
   "source": [
    "CONFIGS = OrderedDict()\n",
    "\n",
    "for num, config_path in enumerate(sorted(CONFIG_PATHS)):\n",
    "    with open(config_path) as file:\n",
    "        config = yaml.safe_load(file)\n",
    "\n",
    "    config_name = os.path.basename(config_path).split(\".\")[0]\n",
    "    assert config_name not in CONFIGS\n",
    "\n",
    "    experiment_name = config_path.split(\"/\")[-2]\n",
    "    _dir = f\"{ROOT_DIR}/data/pytorch/DL_results/{experiment_name}/{config_name}\"\n",
    "\n",
    "    CONFIGS[config_name] = {\n",
    "        \"config\": config,\n",
    "        \"model_name\": config[\"model\"][\"model_name\"],\n",
    "        \"experiment_name\": experiment_name,\n",
    "        \"weight_path\": f\"{_dir}/weights.pth\",\n",
    "        \"learning_history_path\": f\"{_dir}/learning_history.csv\",\n",
    "        \"number\": num,\n",
    "    }"
   ]
  },
  {
   "cell_type": "code",
   "execution_count": null,
   "id": "af552217-c54d-43b1-924d-f8eeca749efc",
   "metadata": {},
   "outputs": [],
   "source": [
    "OBS_GRID_RATIO = {\n",
    "    0: 0.0,\n",
    "    4: 0.06250000093132257,\n",
    "    5: 0.03999999910593033,\n",
    "    6: 0.027777777363856632,\n",
    "    7: 0.02040816326530612,\n",
    "    8: 0.015625000116415322,\n",
    "    9: 0.012345679127323775,\n",
    "    10: 0.010000000149011612,\n",
    "    11: 0.008264463206306716,\n",
    "    12: 0.006944444625534945,\n",
    "    13: 0.005917159876284691,\n",
    "    14: 0.005102040977882487,\n",
    "    15: 0.004444444572759999,\n",
    "    16: 0.003906250014551915,\n",
    "}"
   ]
  },
  {
   "cell_type": "markdown",
   "id": "6e6431ca-0f83-4079-9f33-381617617153",
   "metadata": {},
   "source": [
    "# Define methods"
   ]
  },
  {
   "cell_type": "code",
   "execution_count": null,
   "id": "847b87a9-44b8-4ffa-a7f7-497390bcc06b",
   "metadata": {},
   "outputs": [],
   "source": [
    "def plot(\n",
    "    dict_data: dict,\n",
    "    t: float,\n",
    "    obs: np.ndarray,\n",
    "    figsize: list = [20, 2],\n",
    "    write_out: bool = False,\n",
    "    ttl_header: str = \"\",\n",
    "    fig_file_name: str = \"\",\n",
    "    use_hr_space: bool = True,\n",
    "    vmin_omega: float = -9,\n",
    "    vmax_omega: float = 9,\n",
    "):\n",
    "\n",
    "    xs = np.linspace(0, 2 * np.pi, num=HR_NX, endpoint=False)\n",
    "    ys = np.linspace(0, np.pi, num=HR_NY - 1, endpoint=False)\n",
    "    hr_x, hr_y = np.meshgrid(xs, ys, indexing=\"ij\")\n",
    "\n",
    "    xs = np.linspace(0, 2 * np.pi, num=LR_NX, endpoint=False)\n",
    "    ys = np.linspace(0, np.pi, num=LR_NY - 1, endpoint=False)\n",
    "    lr_x, lr_y = np.meshgrid(xs, ys, indexing=\"ij\")\n",
    "\n",
    "    plt.rcParams[\"font.family\"] = \"serif\"\n",
    "    plt.rcParams[\"font.size\"] = 18\n",
    "    fig, axes = plt.subplots(\n",
    "        1, len(dict_data), figsize=figsize, sharex=True, sharey=False\n",
    "    )\n",
    "\n",
    "    gt = None\n",
    "    for ax, (label, data) in zip(axes, dict_data.items()):\n",
    "        if label == \"LR\":\n",
    "            if use_hr_space:\n",
    "                data = interpolate(\n",
    "                    torch.from_numpy(data[None, :]),\n",
    "                    nx=HR_NX,\n",
    "                    ny=HR_NY - 1,\n",
    "                    mode=\"nearest\",\n",
    "                ).numpy()\n",
    "        else:\n",
    "            if not use_hr_space:\n",
    "                data = interpolate(\n",
    "                    torch.from_numpy(data[None, :]), nx=LR_NX, ny=LR_NY - 1\n",
    "                ).numpy()\n",
    "\n",
    "        if use_hr_space:\n",
    "            x, y = hr_x, hr_y\n",
    "        else:\n",
    "            x, y = lr_x, lr_y\n",
    "\n",
    "        d = np.squeeze(data)\n",
    "        if label == \"HR\":\n",
    "            gt = d\n",
    "            ttl = \"HR Ground Truth\"\n",
    "        else:\n",
    "            mae = np.mean(np.abs(gt - d))\n",
    "            ttl = label\n",
    "            ttl = f\"{label}\\nMAE={mae:.2f}\"\n",
    "\n",
    "        if use_hr_space:\n",
    "            assert d.shape == (HR_NX, HR_NY - 1)\n",
    "        else:\n",
    "            assert d.shape == (LR_NX, LR_NY - 1)\n",
    "\n",
    "        cnts = ax.pcolormesh(\n",
    "            x, y, d, cmap=\"twilight_shifted\", vmin=vmin_omega, vmax=vmax_omega\n",
    "        )\n",
    "        ax.set_title(ttl)\n",
    "\n",
    "        fig.colorbar(\n",
    "            cnts,\n",
    "            ax=ax,\n",
    "            ticks=[vmin_omega, vmin_omega / 2, 0, vmax_omega / 2, vmax_omega],\n",
    "            extend=\"both\",\n",
    "        )\n",
    "\n",
    "        ax.set_xlim([0, 2 * np.pi])\n",
    "        ax.set_ylim([0, np.pi])\n",
    "\n",
    "        if label == \"HR\" and use_hr_space:\n",
    "            obs = np.squeeze(obs).flatten()\n",
    "            obs_x = x.flatten()[~np.isnan(obs)]\n",
    "            obs_y = y.flatten()[~np.isnan(obs)]\n",
    "            ax.scatter(obs_x, obs_y, marker=\".\", s=1, c=\"k\")\n",
    "\n",
    "        ax.xaxis.set_ticklabels([])\n",
    "        ax.yaxis.set_ticklabels([])\n",
    "        ax.axes.xaxis.set_visible(False)\n",
    "        ax.axes.yaxis.set_visible(False)\n",
    "\n",
    "    # plt.suptitle(f\"{ttl_header}Time = {t}\")\n",
    "    plt.tight_layout()\n",
    "\n",
    "    if write_out:\n",
    "        fig.savefig(f\"{FIG_DIR}/{fig_file_name}.jpg\")\n",
    "\n",
    "    plt.show()"
   ]
  },
  {
   "cell_type": "markdown",
   "id": "28900295-e1d2-4d11-a69d-6fd076add4c3",
   "metadata": {
    "tags": []
   },
   "source": [
    "# Examine observation features"
   ]
  },
  {
   "cell_type": "code",
   "execution_count": null,
   "id": "7d435992-ebbf-4cd1-9a5d-cf1c17fd10e7",
   "metadata": {},
   "outputs": [],
   "source": [
    "config_name = \"lt4og08_on1e-01_ep1000_lr1e-04_scT_bT_muT_a02_b02_sd359178\""
   ]
  },
  {
   "cell_type": "code",
   "execution_count": null,
   "id": "cc4e24e3-0a60-486e-8d02-e0504ac05404",
   "metadata": {},
   "outputs": [],
   "source": [
    "model = make_model(CONFIGS[config_name][\"config\"]).to(DEVICE)\n",
    "model.load_state_dict(\n",
    "    torch.load(CONFIGS[config_name][\"weight_path\"], map_location=DEVICE)\n",
    ")\n",
    "_ = model.eval()"
   ]
  },
  {
   "cell_type": "code",
   "execution_count": null,
   "id": "0be1ad94-af17-4af6-8ff1-3a9e21c337e7",
   "metadata": {},
   "outputs": [],
   "source": [
    "(\n",
    "    dict_dataloaders,\n",
    "    _,\n",
    ") = make_dataloaders_vorticity_making_observation_inside_time_series_splitted(\n",
    "    root_dir=ROOT_DIR,\n",
    "    config=CONFIGS[config_name][\"config\"],\n",
    "    train_valid_test_kinds=[\"test\"],\n",
    ")"
   ]
  },
  {
   "cell_type": "code",
   "execution_count": null,
   "id": "623c51e1-2b16-4cb4-818c-8cd6d5171b6a",
   "metadata": {
    "tags": []
   },
   "outputs": [],
   "source": [
    "encoder_block = 2\n",
    "all_obs, all_feat, all_latent, all_gt = [], [], [], []\n",
    "for Xs, obs, gt in dict_dataloaders[\"test\"]:\n",
    "    feat, latent = model.get_obs_feature(\n",
    "        Xs.to(DEVICE), obs.to(DEVICE), encoder_block=encoder_block\n",
    "    )\n",
    "    feat = feat.reshape(-1, 3, 64, 64, 128).detach().cpu()\n",
    "    latent = latent.reshape((-1, 3) + latent.shape[-3:]).detach().cpu()\n",
    "\n",
    "    all_obs.append(obs[:, 0].squeeze())\n",
    "    all_feat.append(feat[:, 0].squeeze())\n",
    "    all_latent.append(latent[:, 0].squeeze())\n",
    "    all_gt.append(gt[:, 0].squeeze())\n",
    "\n",
    "all_obs = torch.concat(all_obs, axis=0).numpy()\n",
    "all_feat = torch.concat(all_feat, axis=0).numpy()\n",
    "all_latent = torch.concat(all_latent, axis=0).numpy()\n",
    "all_gt = torch.concat(all_gt, axis=0).numpy()"
   ]
  },
  {
   "cell_type": "code",
   "execution_count": null,
   "id": "604159e0-e38a-4d7d-9e39-8c4442fae795",
   "metadata": {
    "tags": []
   },
   "outputs": [],
   "source": [
    "all_feat.shape, all_latent.shape"
   ]
  },
  {
   "cell_type": "code",
   "execution_count": null,
   "id": "26d49caf-301a-463e-b40a-9677262e332d",
   "metadata": {
    "tags": []
   },
   "outputs": [],
   "source": [
    "for j in range(64):\n",
    "    for i in [6]:\n",
    "        fig, axes = plt.subplots(1, 4, figsize=[20, 4])\n",
    "\n",
    "        obs = all_obs[i]\n",
    "        ax = axes[0]\n",
    "        ax.pcolormesh(obs)\n",
    "        ax.set_title(\"Observation value\")\n",
    "\n",
    "        feat = all_feat[i]\n",
    "        vmin = np.quantile(feat.flatten(), 0.05)\n",
    "        vmax = np.quantile(feat.flatten(), 0.95)\n",
    "        ax = axes[1]\n",
    "        ax.pcolormesh(feat[j], vmin=vmin, vmax=vmax)\n",
    "        ax.set_title(\"Observation feature\")\n",
    "\n",
    "        latent = all_latent[i]\n",
    "        vmin = np.quantile(latent.flatten(), 0.05)\n",
    "        vmax = np.quantile(latent.flatten(), 0.95)\n",
    "        ax = axes[2]\n",
    "        ax.pcolormesh(latent[j], vmin=vmin, vmax=vmax)\n",
    "        ax.set_title(\"Observation latent feature\")\n",
    "\n",
    "        gt = all_gt[i]\n",
    "        ax = axes[3]\n",
    "        ax.pcolormesh(gt)\n",
    "        ax.set_title(\"Ground truth\")\n",
    "\n",
    "        plt.suptitle(f\"i = {i}, j = {j}\")\n",
    "        plt.show()"
   ]
  },
  {
   "cell_type": "code",
   "execution_count": null,
   "id": "7bbcf897-766a-4494-acbe-f3d13b5e9c1b",
   "metadata": {
    "tags": []
   },
   "outputs": [],
   "source": []
  },
  {
   "cell_type": "code",
   "execution_count": null,
   "id": "bb5b36f3-9dfe-4aba-9bed-b36c44e1c21c",
   "metadata": {
    "tags": []
   },
   "outputs": [],
   "source": []
  }
 ],
 "metadata": {
  "kernelspec": {
   "display_name": "Python 3 (ipykernel)",
   "language": "python",
   "name": "python3"
  },
  "language_info": {
   "codemirror_mode": {
    "name": "ipython",
    "version": 3
   },
   "file_extension": ".py",
   "mimetype": "text/x-python",
   "name": "python",
   "nbconvert_exporter": "python",
   "pygments_lexer": "ipython3",
   "version": "3.8.12"
  }
 },
 "nbformat": 4,
 "nbformat_minor": 5
}
