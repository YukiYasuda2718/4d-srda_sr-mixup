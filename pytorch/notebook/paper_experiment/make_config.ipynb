{
 "cells": [
  {
   "cell_type": "code",
   "execution_count": null,
   "id": "dd464462-0275-47fa-8d71-c39d01dd1dbb",
   "metadata": {},
   "outputs": [],
   "source": [
    "%load_ext autoreload\n",
    "%autoreload 2\n",
    "%matplotlib inline"
   ]
  },
  {
   "cell_type": "code",
   "execution_count": null,
   "id": "31ff09c5-97a8-4573-b8d3-e4b9af4223c9",
   "metadata": {},
   "outputs": [],
   "source": [
    "import os\n",
    "import pathlib\n",
    "from copy import deepcopy\n",
    "\n",
    "import numpy as np\n",
    "import yaml"
   ]
  },
  {
   "cell_type": "code",
   "execution_count": null,
   "id": "9d7e0630-04a8-4591-8ae6-ff4159196553",
   "metadata": {},
   "outputs": [],
   "source": [
    "ROOT_DIR = str(pathlib.Path.resolve(pathlib.Path(os.environ[\"PYTHONPATH\"]) / \"..\"))\n",
    "EXPERIMENT_NAME = \"paper_experiment_01\""
   ]
  },
  {
   "cell_type": "code",
   "execution_count": null,
   "id": "294d32b0-c4be-47e0-8adf-9cb0053ac65a",
   "metadata": {},
   "outputs": [],
   "source": [
    "np.random.seed(42)\n",
    "seeds = np.random.randint(100000, 999999, 8)"
   ]
  },
  {
   "cell_type": "code",
   "execution_count": null,
   "id": "1a148142-120f-4fd4-a55d-ea97448a5246",
   "metadata": {},
   "outputs": [],
   "source": [
    "seeds"
   ]
  },
  {
   "cell_type": "code",
   "execution_count": null,
   "id": "08834325-464e-41bb-b08b-c1d7f784bd02",
   "metadata": {},
   "outputs": [],
   "source": [
    "assert list(seeds) == [221958, 771155, 231932, 465838, 359178, 744167, 210268, 832180]"
   ]
  },
  {
   "cell_type": "code",
   "execution_count": null,
   "id": "1a591db4-0014-4284-9cb2-dabe1c84290a",
   "metadata": {},
   "outputs": [],
   "source": [
    "lr_time_intervals = [4]\n",
    "obs_grid_intervals = [0, 4, 6, 8, 10, 12]\n",
    "obs_noises = [0.1]\n",
    "use_scs = [True]\n",
    "use_mus = [True, False]\n",
    "alphas = [2.0]\n",
    "betas = [2.0]\n",
    "use_lrs = [True, False]\n",
    "seeds = [221958, 771155, 832180, 465838, 359178]\n",
    "\n",
    "\n",
    "def generate_preference_params():\n",
    "    for lt in lr_time_intervals:\n",
    "        for og in obs_grid_intervals:\n",
    "            for on in obs_noises:\n",
    "                for sc in use_scs:\n",
    "                    for mu in use_mus:\n",
    "                        for a in alphas:\n",
    "                            for b in betas:\n",
    "                                for use_lr in use_lrs:\n",
    "                                    for seed in seeds:\n",
    "                                        yield lt, og, on, sc, mu, a, b, use_lr, seed"
   ]
  },
  {
   "cell_type": "code",
   "execution_count": null,
   "id": "978facab-4e58-4878-9e7f-c2b0b449c324",
   "metadata": {},
   "outputs": [],
   "source": [
    "config_dir = f\"{ROOT_DIR}/pytorch/config/{EXPERIMENT_NAME}\"\n",
    "\n",
    "for lt, og, on, sc, mu, a, b, use_lr, seed in generate_preference_params():\n",
    "    ref_config_name = \"lt4og12_on1e-01_ep1000_lr1e-04_scT_muT_a02_b02_sd221958\"\n",
    "    with open(f\"{config_dir}/{ref_config_name}.yml\") as file:\n",
    "        ref_config = yaml.safe_load(file)\n",
    "\n",
    "    if (not mu) and (a != 2 or b != 2):\n",
    "        continue\n",
    "\n",
    "    if (not use_lr) and (a != 2 or b != 2):\n",
    "        continue\n",
    "\n",
    "    if (not use_lr) and mu:\n",
    "        continue\n",
    "\n",
    "    if (not use_lr) and og <= 0:\n",
    "        continue\n",
    "\n",
    "    new_config = deepcopy(ref_config)\n",
    "\n",
    "    new_config[\"data\"][\"lr_time_interval\"] = lt\n",
    "    new_config[\"data\"][\"obs_grid_interval\"] = og\n",
    "    new_config[\"data\"][\"obs_noise_std\"] = on\n",
    "    new_config[\"model\"][\"use_global_skip_connection\"] = sc\n",
    "    new_config[\"data\"][\"use_mixup\"] = mu\n",
    "    new_config[\"data\"][\"beta_dist_alpha\"] = float(a)\n",
    "    new_config[\"data\"][\"beta_dist_beta\"] = float(b)\n",
    "    new_config[\"train\"][\"seed\"] = int(seed)\n",
    "\n",
    "    new_config_name = ref_config_name\n",
    "    new_config_name = new_config_name.replace(\"lt4\", f\"lt{lt:01}\")\n",
    "    new_config_name = new_config_name.replace(\"og12\", f\"og{og:02}\")\n",
    "    new_config_name = new_config_name.replace(\"on1e-01\", f\"on{on:.0e}\")\n",
    "    new_config_name = new_config_name.replace(\"a02\", f\"a{int(a):02}\")\n",
    "    new_config_name = new_config_name.replace(\"b02\", f\"b{int(b):02}\")\n",
    "    new_config_name = new_config_name.replace(\"sd221958\", f\"sd{int(seed):06}\")\n",
    "\n",
    "    if og <= 0:\n",
    "        new_config[\"data\"][\"use_observation\"] = False\n",
    "\n",
    "    if not use_lr:\n",
    "        new_config_name = new_config_name + \"_noLR\"\n",
    "        new_config[\"data\"][\"use_lr_forecast\"] = False\n",
    "\n",
    "    if not sc:\n",
    "        new_config_name = new_config_name.replace(\"scT\", \"scF\")\n",
    "\n",
    "    if not mu:\n",
    "        new_config_name = new_config_name.replace(\"muT\", \"muF\")\n",
    "\n",
    "    if new_config_name == ref_config_name:\n",
    "        print(f\"Same name is detected. {ref_config_name}\")\n",
    "        continue\n",
    "\n",
    "    with open(f\"{config_dir}/{new_config_name}.yml\", \"w\") as file:\n",
    "        yaml.safe_dump(new_config, file)"
   ]
  },
  {
   "cell_type": "code",
   "execution_count": null,
   "id": "3f4642ab-948d-4d08-97ff-95006cf5d847",
   "metadata": {},
   "outputs": [],
   "source": []
  },
  {
   "cell_type": "code",
   "execution_count": null,
   "id": "5ac17672-a28b-41b5-83b1-54a045010bf4",
   "metadata": {},
   "outputs": [],
   "source": []
  },
  {
   "cell_type": "code",
   "execution_count": null,
   "id": "3e222a8d-e797-4a74-a723-c949c50255cc",
   "metadata": {},
   "outputs": [],
   "source": []
  }
 ],
 "metadata": {
  "kernelspec": {
   "display_name": "Python 3 (ipykernel)",
   "language": "python",
   "name": "python3"
  },
  "language_info": {
   "codemirror_mode": {
    "name": "ipython",
    "version": 3
   },
   "file_extension": ".py",
   "mimetype": "text/x-python",
   "name": "python",
   "nbconvert_exporter": "python",
   "pygments_lexer": "ipython3",
   "version": "3.8.12"
  }
 },
 "nbformat": 4,
 "nbformat_minor": 5
}
